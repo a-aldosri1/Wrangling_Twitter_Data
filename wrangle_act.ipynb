{
 "cells": [
  {
   "cell_type": "markdown",
   "metadata": {},
   "source": [
    "\n",
    "\n",
    "# Project: Wrangle WeRateDogs Twitter data to create interesting and trustworthy analyses\n",
    "\n",
    "## Table of Contents\n",
    "<ul>\n",
    "<li><a href=\"#intro\">Introduction</a></li>\n",
    "<li><a href=\"#Gathering\">Data Gathering</a></li>\n",
    "<li><a href=\"#Assessing\">Data Assessing</a></li>\n",
    "<li><a href=\"#Assessing\">Data Cleaning</a></li>\n",
    "<li><a href=\"#eda\">Exploratory Data Analysis</a></li>\n",
    "<li><a href=\"#conclusions\">Conclusions</a></li>\n",
    "</ul>"
   ]
  },
  {
   "cell_type": "markdown",
   "metadata": {},
   "source": [
    "<a id='intro'></a>\n",
    "## Introduction\n",
    "\n",
    "The dataset that we will be wrangling (and analyzing and visualizing) is the tweet archive of Twitter user [@dog_rates](https://twitter.com/dog_rates), also known as WeRateDogs. WeRateDogs is a Twitter account that rates people's dogs with a humorous comment about the dog. These ratings almost always have a denominator of 10. The numerators, though? Almost always greater than 10. 11/10, 12/10, 13/10, etc. Why? Because [\"they're good dogs Brent.\"](https://knowyourmeme.com/memes/theyre-good-dogs-brent) WeRateDogs has over 9 million followers and has received international media coverage."
   ]
  },
  {
   "cell_type": "code",
   "execution_count": 1,
   "metadata": {},
   "outputs": [
    {
     "name": "stdout",
     "output_type": "stream",
     "text": [
      "lets gooo!\n"
     ]
    }
   ],
   "source": [
    "# import statements for all of the packages we plan to use\n",
    "import os\n",
    "import numpy as np\n",
    "import pandas as pd\n",
    "import requests\n",
    "import json\n",
    "import tweepy\n",
    "import matplotlib.pyplot as plt\n",
    "%matplotlib inline\n",
    "import seaborn as sns\n",
    "sns.set_style('darkgrid')\n",
    "\n",
    "print(\"lets gooo!\")"
   ]
  },
  {
   "cell_type": "markdown",
   "metadata": {},
   "source": [
    "<a id='Gathering'></a>\n",
    "## Data Gathering\n",
    "\n",
    "The data we need to gather is:\n",
    "- Enhanced Twitter Archive\n",
    "- Image Predictions File\n",
    "- Additional Data via the Twitter API\n",
    "\n",
    "We will talk about them one by one.\n",
    "\n",
    "\n",
    "### 1- Enhanced Twitter Archive\n",
    "WeRateDogs downloaded their Twitter archive and sent it to Udacity via email exclusively for students to use in their projects. This archive contains basic tweet data (tweet ID, timestamp, text, etc.) for all 2000+ of their tweets as they stood on August 1, 2017."
   ]
  },
  {
   "cell_type": "code",
   "execution_count": 2,
   "metadata": {},
   "outputs": [],
   "source": [
    "twitter_archive = pd.read_csv('twitter-archive-enhanced.csv')"
   ]
  },
  {
   "cell_type": "code",
   "execution_count": 3,
   "metadata": {
    "scrolled": true
   },
   "outputs": [
    {
     "data": {
      "text/html": [
       "<div>\n",
       "<style scoped>\n",
       "    .dataframe tbody tr th:only-of-type {\n",
       "        vertical-align: middle;\n",
       "    }\n",
       "\n",
       "    .dataframe tbody tr th {\n",
       "        vertical-align: top;\n",
       "    }\n",
       "\n",
       "    .dataframe thead th {\n",
       "        text-align: right;\n",
       "    }\n",
       "</style>\n",
       "<table border=\"1\" class=\"dataframe\">\n",
       "  <thead>\n",
       "    <tr style=\"text-align: right;\">\n",
       "      <th></th>\n",
       "      <th>tweet_id</th>\n",
       "      <th>in_reply_to_status_id</th>\n",
       "      <th>in_reply_to_user_id</th>\n",
       "      <th>timestamp</th>\n",
       "      <th>source</th>\n",
       "      <th>text</th>\n",
       "      <th>retweeted_status_id</th>\n",
       "      <th>retweeted_status_user_id</th>\n",
       "      <th>retweeted_status_timestamp</th>\n",
       "      <th>expanded_urls</th>\n",
       "      <th>rating_numerator</th>\n",
       "      <th>rating_denominator</th>\n",
       "      <th>name</th>\n",
       "      <th>doggo</th>\n",
       "      <th>floofer</th>\n",
       "      <th>pupper</th>\n",
       "      <th>puppo</th>\n",
       "    </tr>\n",
       "  </thead>\n",
       "  <tbody>\n",
       "    <tr>\n",
       "      <th>0</th>\n",
       "      <td>892420643555336193</td>\n",
       "      <td>NaN</td>\n",
       "      <td>NaN</td>\n",
       "      <td>2017-08-01 16:23:56 +0000</td>\n",
       "      <td>&lt;a href=\"http://twitter.com/download/iphone\" r...</td>\n",
       "      <td>This is Phineas. He's a mystical boy. Only eve...</td>\n",
       "      <td>NaN</td>\n",
       "      <td>NaN</td>\n",
       "      <td>NaN</td>\n",
       "      <td>https://twitter.com/dog_rates/status/892420643...</td>\n",
       "      <td>13</td>\n",
       "      <td>10</td>\n",
       "      <td>Phineas</td>\n",
       "      <td>None</td>\n",
       "      <td>None</td>\n",
       "      <td>None</td>\n",
       "      <td>None</td>\n",
       "    </tr>\n",
       "    <tr>\n",
       "      <th>1</th>\n",
       "      <td>892177421306343426</td>\n",
       "      <td>NaN</td>\n",
       "      <td>NaN</td>\n",
       "      <td>2017-08-01 00:17:27 +0000</td>\n",
       "      <td>&lt;a href=\"http://twitter.com/download/iphone\" r...</td>\n",
       "      <td>This is Tilly. She's just checking pup on you....</td>\n",
       "      <td>NaN</td>\n",
       "      <td>NaN</td>\n",
       "      <td>NaN</td>\n",
       "      <td>https://twitter.com/dog_rates/status/892177421...</td>\n",
       "      <td>13</td>\n",
       "      <td>10</td>\n",
       "      <td>Tilly</td>\n",
       "      <td>None</td>\n",
       "      <td>None</td>\n",
       "      <td>None</td>\n",
       "      <td>None</td>\n",
       "    </tr>\n",
       "    <tr>\n",
       "      <th>2</th>\n",
       "      <td>891815181378084864</td>\n",
       "      <td>NaN</td>\n",
       "      <td>NaN</td>\n",
       "      <td>2017-07-31 00:18:03 +0000</td>\n",
       "      <td>&lt;a href=\"http://twitter.com/download/iphone\" r...</td>\n",
       "      <td>This is Archie. He is a rare Norwegian Pouncin...</td>\n",
       "      <td>NaN</td>\n",
       "      <td>NaN</td>\n",
       "      <td>NaN</td>\n",
       "      <td>https://twitter.com/dog_rates/status/891815181...</td>\n",
       "      <td>12</td>\n",
       "      <td>10</td>\n",
       "      <td>Archie</td>\n",
       "      <td>None</td>\n",
       "      <td>None</td>\n",
       "      <td>None</td>\n",
       "      <td>None</td>\n",
       "    </tr>\n",
       "    <tr>\n",
       "      <th>3</th>\n",
       "      <td>891689557279858688</td>\n",
       "      <td>NaN</td>\n",
       "      <td>NaN</td>\n",
       "      <td>2017-07-30 15:58:51 +0000</td>\n",
       "      <td>&lt;a href=\"http://twitter.com/download/iphone\" r...</td>\n",
       "      <td>This is Darla. She commenced a snooze mid meal...</td>\n",
       "      <td>NaN</td>\n",
       "      <td>NaN</td>\n",
       "      <td>NaN</td>\n",
       "      <td>https://twitter.com/dog_rates/status/891689557...</td>\n",
       "      <td>13</td>\n",
       "      <td>10</td>\n",
       "      <td>Darla</td>\n",
       "      <td>None</td>\n",
       "      <td>None</td>\n",
       "      <td>None</td>\n",
       "      <td>None</td>\n",
       "    </tr>\n",
       "    <tr>\n",
       "      <th>4</th>\n",
       "      <td>891327558926688256</td>\n",
       "      <td>NaN</td>\n",
       "      <td>NaN</td>\n",
       "      <td>2017-07-29 16:00:24 +0000</td>\n",
       "      <td>&lt;a href=\"http://twitter.com/download/iphone\" r...</td>\n",
       "      <td>This is Franklin. He would like you to stop ca...</td>\n",
       "      <td>NaN</td>\n",
       "      <td>NaN</td>\n",
       "      <td>NaN</td>\n",
       "      <td>https://twitter.com/dog_rates/status/891327558...</td>\n",
       "      <td>12</td>\n",
       "      <td>10</td>\n",
       "      <td>Franklin</td>\n",
       "      <td>None</td>\n",
       "      <td>None</td>\n",
       "      <td>None</td>\n",
       "      <td>None</td>\n",
       "    </tr>\n",
       "  </tbody>\n",
       "</table>\n",
       "</div>"
      ],
      "text/plain": [
       "             tweet_id  in_reply_to_status_id  in_reply_to_user_id  \\\n",
       "0  892420643555336193                    NaN                  NaN   \n",
       "1  892177421306343426                    NaN                  NaN   \n",
       "2  891815181378084864                    NaN                  NaN   \n",
       "3  891689557279858688                    NaN                  NaN   \n",
       "4  891327558926688256                    NaN                  NaN   \n",
       "\n",
       "                   timestamp  \\\n",
       "0  2017-08-01 16:23:56 +0000   \n",
       "1  2017-08-01 00:17:27 +0000   \n",
       "2  2017-07-31 00:18:03 +0000   \n",
       "3  2017-07-30 15:58:51 +0000   \n",
       "4  2017-07-29 16:00:24 +0000   \n",
       "\n",
       "                                              source  \\\n",
       "0  <a href=\"http://twitter.com/download/iphone\" r...   \n",
       "1  <a href=\"http://twitter.com/download/iphone\" r...   \n",
       "2  <a href=\"http://twitter.com/download/iphone\" r...   \n",
       "3  <a href=\"http://twitter.com/download/iphone\" r...   \n",
       "4  <a href=\"http://twitter.com/download/iphone\" r...   \n",
       "\n",
       "                                                text  retweeted_status_id  \\\n",
       "0  This is Phineas. He's a mystical boy. Only eve...                  NaN   \n",
       "1  This is Tilly. She's just checking pup on you....                  NaN   \n",
       "2  This is Archie. He is a rare Norwegian Pouncin...                  NaN   \n",
       "3  This is Darla. She commenced a snooze mid meal...                  NaN   \n",
       "4  This is Franklin. He would like you to stop ca...                  NaN   \n",
       "\n",
       "   retweeted_status_user_id retweeted_status_timestamp  \\\n",
       "0                       NaN                        NaN   \n",
       "1                       NaN                        NaN   \n",
       "2                       NaN                        NaN   \n",
       "3                       NaN                        NaN   \n",
       "4                       NaN                        NaN   \n",
       "\n",
       "                                       expanded_urls  rating_numerator  \\\n",
       "0  https://twitter.com/dog_rates/status/892420643...                13   \n",
       "1  https://twitter.com/dog_rates/status/892177421...                13   \n",
       "2  https://twitter.com/dog_rates/status/891815181...                12   \n",
       "3  https://twitter.com/dog_rates/status/891689557...                13   \n",
       "4  https://twitter.com/dog_rates/status/891327558...                12   \n",
       "\n",
       "   rating_denominator      name doggo floofer pupper puppo  \n",
       "0                  10   Phineas  None    None   None  None  \n",
       "1                  10     Tilly  None    None   None  None  \n",
       "2                  10    Archie  None    None   None  None  \n",
       "3                  10     Darla  None    None   None  None  \n",
       "4                  10  Franklin  None    None   None  None  "
      ]
     },
     "execution_count": 3,
     "metadata": {},
     "output_type": "execute_result"
    }
   ],
   "source": [
    "twitter_archive.head()"
   ]
  },
  {
   "cell_type": "markdown",
   "metadata": {},
   "source": [
    "### 2- Image Predictions File\n",
    "This file contiain every image in the WeRateDogs Twitter archive ran through a neural network that can classify breeds of dogs*. The results: a table full of image predictions (the top three only) alongside each tweet ID, image URL, and the image number that corresponded to the most confident prediction (numbered 1 to 4 since tweets can have up to four images).\n",
    "we will get this file from udacity "
   ]
  },
  {
   "cell_type": "code",
   "execution_count": 4,
   "metadata": {},
   "outputs": [],
   "source": [
    "url = 'https://d17h27t6h515a5.cloudfront.net/topher/2017/August/599fd2ad_image-predictions/image-predictions.tsv'\n",
    "if not os.path.exists(url.split('/')[-1]):\n",
    "    response = requests.get(url)\n",
    "    with open(url.split('/')[-1], mode='wb') as file:\n",
    "        file.write(response.content)"
   ]
  },
  {
   "cell_type": "code",
   "execution_count": 3,
   "metadata": {},
   "outputs": [],
   "source": [
    "image_predictions = pd.read_csv('image-predictions.tsv', sep='\\t')"
   ]
  },
  {
   "cell_type": "code",
   "execution_count": 6,
   "metadata": {
    "scrolled": true
   },
   "outputs": [
    {
     "data": {
      "text/html": [
       "<div>\n",
       "<style scoped>\n",
       "    .dataframe tbody tr th:only-of-type {\n",
       "        vertical-align: middle;\n",
       "    }\n",
       "\n",
       "    .dataframe tbody tr th {\n",
       "        vertical-align: top;\n",
       "    }\n",
       "\n",
       "    .dataframe thead th {\n",
       "        text-align: right;\n",
       "    }\n",
       "</style>\n",
       "<table border=\"1\" class=\"dataframe\">\n",
       "  <thead>\n",
       "    <tr style=\"text-align: right;\">\n",
       "      <th></th>\n",
       "      <th>tweet_id</th>\n",
       "      <th>jpg_url</th>\n",
       "      <th>img_num</th>\n",
       "      <th>p1</th>\n",
       "      <th>p1_conf</th>\n",
       "      <th>p1_dog</th>\n",
       "      <th>p2</th>\n",
       "      <th>p2_conf</th>\n",
       "      <th>p2_dog</th>\n",
       "      <th>p3</th>\n",
       "      <th>p3_conf</th>\n",
       "      <th>p3_dog</th>\n",
       "    </tr>\n",
       "  </thead>\n",
       "  <tbody>\n",
       "    <tr>\n",
       "      <th>0</th>\n",
       "      <td>666020888022790149</td>\n",
       "      <td>https://pbs.twimg.com/media/CT4udn0WwAA0aMy.jpg</td>\n",
       "      <td>1</td>\n",
       "      <td>Welsh_springer_spaniel</td>\n",
       "      <td>0.465074</td>\n",
       "      <td>True</td>\n",
       "      <td>collie</td>\n",
       "      <td>0.156665</td>\n",
       "      <td>True</td>\n",
       "      <td>Shetland_sheepdog</td>\n",
       "      <td>0.061428</td>\n",
       "      <td>True</td>\n",
       "    </tr>\n",
       "    <tr>\n",
       "      <th>1</th>\n",
       "      <td>666029285002620928</td>\n",
       "      <td>https://pbs.twimg.com/media/CT42GRgUYAA5iDo.jpg</td>\n",
       "      <td>1</td>\n",
       "      <td>redbone</td>\n",
       "      <td>0.506826</td>\n",
       "      <td>True</td>\n",
       "      <td>miniature_pinscher</td>\n",
       "      <td>0.074192</td>\n",
       "      <td>True</td>\n",
       "      <td>Rhodesian_ridgeback</td>\n",
       "      <td>0.072010</td>\n",
       "      <td>True</td>\n",
       "    </tr>\n",
       "    <tr>\n",
       "      <th>2</th>\n",
       "      <td>666033412701032449</td>\n",
       "      <td>https://pbs.twimg.com/media/CT4521TWwAEvMyu.jpg</td>\n",
       "      <td>1</td>\n",
       "      <td>German_shepherd</td>\n",
       "      <td>0.596461</td>\n",
       "      <td>True</td>\n",
       "      <td>malinois</td>\n",
       "      <td>0.138584</td>\n",
       "      <td>True</td>\n",
       "      <td>bloodhound</td>\n",
       "      <td>0.116197</td>\n",
       "      <td>True</td>\n",
       "    </tr>\n",
       "    <tr>\n",
       "      <th>3</th>\n",
       "      <td>666044226329800704</td>\n",
       "      <td>https://pbs.twimg.com/media/CT5Dr8HUEAA-lEu.jpg</td>\n",
       "      <td>1</td>\n",
       "      <td>Rhodesian_ridgeback</td>\n",
       "      <td>0.408143</td>\n",
       "      <td>True</td>\n",
       "      <td>redbone</td>\n",
       "      <td>0.360687</td>\n",
       "      <td>True</td>\n",
       "      <td>miniature_pinscher</td>\n",
       "      <td>0.222752</td>\n",
       "      <td>True</td>\n",
       "    </tr>\n",
       "    <tr>\n",
       "      <th>4</th>\n",
       "      <td>666049248165822465</td>\n",
       "      <td>https://pbs.twimg.com/media/CT5IQmsXIAAKY4A.jpg</td>\n",
       "      <td>1</td>\n",
       "      <td>miniature_pinscher</td>\n",
       "      <td>0.560311</td>\n",
       "      <td>True</td>\n",
       "      <td>Rottweiler</td>\n",
       "      <td>0.243682</td>\n",
       "      <td>True</td>\n",
       "      <td>Doberman</td>\n",
       "      <td>0.154629</td>\n",
       "      <td>True</td>\n",
       "    </tr>\n",
       "  </tbody>\n",
       "</table>\n",
       "</div>"
      ],
      "text/plain": [
       "             tweet_id                                          jpg_url  \\\n",
       "0  666020888022790149  https://pbs.twimg.com/media/CT4udn0WwAA0aMy.jpg   \n",
       "1  666029285002620928  https://pbs.twimg.com/media/CT42GRgUYAA5iDo.jpg   \n",
       "2  666033412701032449  https://pbs.twimg.com/media/CT4521TWwAEvMyu.jpg   \n",
       "3  666044226329800704  https://pbs.twimg.com/media/CT5Dr8HUEAA-lEu.jpg   \n",
       "4  666049248165822465  https://pbs.twimg.com/media/CT5IQmsXIAAKY4A.jpg   \n",
       "\n",
       "   img_num                      p1   p1_conf  p1_dog                  p2  \\\n",
       "0        1  Welsh_springer_spaniel  0.465074    True              collie   \n",
       "1        1                 redbone  0.506826    True  miniature_pinscher   \n",
       "2        1         German_shepherd  0.596461    True            malinois   \n",
       "3        1     Rhodesian_ridgeback  0.408143    True             redbone   \n",
       "4        1      miniature_pinscher  0.560311    True          Rottweiler   \n",
       "\n",
       "    p2_conf  p2_dog                   p3   p3_conf  p3_dog  \n",
       "0  0.156665    True    Shetland_sheepdog  0.061428    True  \n",
       "1  0.074192    True  Rhodesian_ridgeback  0.072010    True  \n",
       "2  0.138584    True           bloodhound  0.116197    True  \n",
       "3  0.360687    True   miniature_pinscher  0.222752    True  \n",
       "4  0.243682    True             Doberman  0.154629    True  "
      ]
     },
     "execution_count": 6,
     "metadata": {},
     "output_type": "execute_result"
    }
   ],
   "source": [
    "image_predictions.head()"
   ]
  },
  {
   "cell_type": "markdown",
   "metadata": {},
   "source": [
    "### 3- Additional Data via the Twitter API\n",
    "Back to the basic-ness of Twitter archives: retweet count and favorite count are two of the notable column omissions. Fortunately, this additional data can be gathered by anyone from Twitter's API. Well, \"anyone\" who has access to data for the 3000 most recent tweets, at least. But because we have the WeRateDogs Twitter archive and specifically the tweet IDs within it, can gather this data for all 2000+. we are going to query Twitter's API to gather this valuable data."
   ]
  },
  {
   "cell_type": "code",
   "execution_count": 44,
   "metadata": {},
   "outputs": [],
   "source": [
    "consumer_key = '###################'\n",
    "consumer_secret = '################'\n",
    "access_token = '###################'\n",
    "access_secret = '##################'\n",
    "\n",
    "auth = tweepy.OAuthHandler(consumer_key, consumer_secret)\n",
    "auth.set_access_token(access_token, access_secret)\n",
    "\n",
    "api = tweepy.API(auth, wait_on_rate_limit=True, wait_on_rate_limit_notify=True)"
   ]
  },
  {
   "cell_type": "code",
   "execution_count": 84,
   "metadata": {},
   "outputs": [
    {
     "name": "stdout",
     "output_type": "stream",
     "text": [
      "888202515573088257\n",
      "[{'code': 144, 'message': 'No status found with that ID.'}]\n",
      "873697596434513921\n",
      "[{'code': 144, 'message': 'No status found with that ID.'}]\n",
      "872668790621863937\n",
      "[{'code': 144, 'message': 'No status found with that ID.'}]\n",
      "872261713294495745\n",
      "[{'code': 144, 'message': 'No status found with that ID.'}]\n",
      "869988702071779329\n",
      "[{'code': 144, 'message': 'No status found with that ID.'}]\n",
      "866816280283807744\n",
      "[{'code': 144, 'message': 'No status found with that ID.'}]\n",
      "861769973181624320\n",
      "[{'code': 144, 'message': 'No status found with that ID.'}]\n",
      "856602993587888130\n",
      "[{'code': 144, 'message': 'No status found with that ID.'}]\n",
      "856330835276025856\n",
      "[{'code': 34, 'message': 'Sorry, that page does not exist.'}]\n",
      "851953902622658560\n",
      "[{'code': 144, 'message': 'No status found with that ID.'}]\n",
      "845459076796616705\n",
      "[{'code': 144, 'message': 'No status found with that ID.'}]\n",
      "844704788403113984\n",
      "[{'code': 144, 'message': 'No status found with that ID.'}]\n",
      "842892208864923648\n",
      "[{'code': 144, 'message': 'No status found with that ID.'}]\n",
      "837366284874571778\n",
      "[{'code': 144, 'message': 'No status found with that ID.'}]\n",
      "837012587749474308\n",
      "[{'code': 144, 'message': 'No status found with that ID.'}]\n",
      "829374341691346946\n",
      "[{'code': 144, 'message': 'No status found with that ID.'}]\n",
      "827228250799742977\n",
      "[{'code': 144, 'message': 'No status found with that ID.'}]\n",
      "812747805718642688\n",
      "[{'code': 144, 'message': 'No status found with that ID.'}]\n",
      "802247111496568832\n",
      "[{'code': 144, 'message': 'No status found with that ID.'}]\n",
      "779123168116150273\n",
      "[{'code': 144, 'message': 'No status found with that ID.'}]\n",
      "775096608509886464\n",
      "[{'code': 144, 'message': 'No status found with that ID.'}]\n",
      "771004394259247104\n",
      "[{'code': 179, 'message': 'Sorry, you are not authorized to see this status.'}]\n",
      "770743923962707968\n",
      "[{'code': 144, 'message': 'No status found with that ID.'}]\n",
      "766864461642756096\n",
      "[{'code': 144, 'message': 'No status found with that ID.'}]\n",
      "759923798737051648\n",
      "[{'code': 144, 'message': 'No status found with that ID.'}]\n",
      "759566828574212096\n",
      "[{'code': 144, 'message': 'No status found with that ID.'}]\n"
     ]
    },
    {
     "name": "stderr",
     "output_type": "stream",
     "text": [
      "Rate limit reached. Sleeping for: 284\n"
     ]
    },
    {
     "name": "stdout",
     "output_type": "stream",
     "text": [
      "754011816964026368\n",
      "[{'code': 144, 'message': 'No status found with that ID.'}]\n",
      "680055455951884288\n",
      "[{'code': 144, 'message': 'No status found with that ID.'}]\n"
     ]
    },
    {
     "name": "stderr",
     "output_type": "stream",
     "text": [
      "Rate limit reached. Sleeping for: 265\n"
     ]
    }
   ],
   "source": [
    "# here we will loop over every tweet we have and try to extract thire json data into tweet_json.txt file\n",
    "if not os.path.exists('tweet_json.txt'):\n",
    "    for tweet_id in twitter_archive.tweet_id:\n",
    "        try:\n",
    "            status = api.get_status(tweet_id)\n",
    "            json_tweet = json.dumps(status._json)\n",
    "\n",
    "            with open('tweet_json.txt', mode='a') as file:\n",
    "                file.write(json_tweet)\n",
    "                file.write(\"\\n\")\n",
    "\n",
    "        except Exception as e:\n",
    "            print(str(tweet_id) + \"\\n\" + str(e))\n",
    "            \n",
    "# the printed tweets id is deleted or some reason i don't now"
   ]
  },
  {
   "cell_type": "code",
   "execution_count": 12,
   "metadata": {},
   "outputs": [],
   "source": [
    "# here we will extract the valueble information we need from the tweets stored in tweet_json.txt\n",
    "tweets_list = []\n",
    "with open(\"tweet_json.txt\") as file:\n",
    "    for line in file:\n",
    "        tweet = json.loads(line)\n",
    "        tweets_list.append({\n",
    "            'tweet_id': tweet['id'],\n",
    "            'retweet_count': tweet['retweet_count'],\n",
    "            'favorite_count': tweet['favorite_count']\n",
    "        })"
   ]
  },
  {
   "cell_type": "code",
   "execution_count": 9,
   "metadata": {},
   "outputs": [],
   "source": [
    "api_data = pd.DataFrame(tweets_list)"
   ]
  },
  {
   "cell_type": "code",
   "execution_count": 10,
   "metadata": {
    "scrolled": true
   },
   "outputs": [
    {
     "data": {
      "text/html": [
       "<div>\n",
       "<style scoped>\n",
       "    .dataframe tbody tr th:only-of-type {\n",
       "        vertical-align: middle;\n",
       "    }\n",
       "\n",
       "    .dataframe tbody tr th {\n",
       "        vertical-align: top;\n",
       "    }\n",
       "\n",
       "    .dataframe thead th {\n",
       "        text-align: right;\n",
       "    }\n",
       "</style>\n",
       "<table border=\"1\" class=\"dataframe\">\n",
       "  <thead>\n",
       "    <tr style=\"text-align: right;\">\n",
       "      <th></th>\n",
       "      <th>tweet_id</th>\n",
       "      <th>retweet_count</th>\n",
       "      <th>favorite_count</th>\n",
       "    </tr>\n",
       "  </thead>\n",
       "  <tbody>\n",
       "    <tr>\n",
       "      <th>0</th>\n",
       "      <td>892420643555336193</td>\n",
       "      <td>7201</td>\n",
       "      <td>34581</td>\n",
       "    </tr>\n",
       "    <tr>\n",
       "      <th>1</th>\n",
       "      <td>892177421306343426</td>\n",
       "      <td>5408</td>\n",
       "      <td>29979</td>\n",
       "    </tr>\n",
       "    <tr>\n",
       "      <th>2</th>\n",
       "      <td>891815181378084864</td>\n",
       "      <td>3574</td>\n",
       "      <td>22558</td>\n",
       "    </tr>\n",
       "    <tr>\n",
       "      <th>3</th>\n",
       "      <td>891689557279858688</td>\n",
       "      <td>7425</td>\n",
       "      <td>37835</td>\n",
       "    </tr>\n",
       "    <tr>\n",
       "      <th>4</th>\n",
       "      <td>891327558926688256</td>\n",
       "      <td>7965</td>\n",
       "      <td>36129</td>\n",
       "    </tr>\n",
       "  </tbody>\n",
       "</table>\n",
       "</div>"
      ],
      "text/plain": [
       "             tweet_id  retweet_count  favorite_count\n",
       "0  892420643555336193           7201           34581\n",
       "1  892177421306343426           5408           29979\n",
       "2  891815181378084864           3574           22558\n",
       "3  891689557279858688           7425           37835\n",
       "4  891327558926688256           7965           36129"
      ]
     },
     "execution_count": 10,
     "metadata": {},
     "output_type": "execute_result"
    }
   ],
   "source": [
    "api_data.head()"
   ]
  },
  {
   "cell_type": "markdown",
   "metadata": {},
   "source": [
    "We finished the data gathering with three data frames: `twitter_archive`, `image_predictions`, `api_data`, now we will move to assessing the data we got.\n",
    "\n",
    "<a id='Assessing'></a>\n",
    "## Data Assessing\n",
    "\n",
    "we will search for issues in two aspect: quality and tidiness, and i will document them in the end of this section"
   ]
  },
  {
   "cell_type": "code",
   "execution_count": 106,
   "metadata": {},
   "outputs": [
    {
     "data": {
      "text/html": [
       "<div>\n",
       "<style scoped>\n",
       "    .dataframe tbody tr th:only-of-type {\n",
       "        vertical-align: middle;\n",
       "    }\n",
       "\n",
       "    .dataframe tbody tr th {\n",
       "        vertical-align: top;\n",
       "    }\n",
       "\n",
       "    .dataframe thead th {\n",
       "        text-align: right;\n",
       "    }\n",
       "</style>\n",
       "<table border=\"1\" class=\"dataframe\">\n",
       "  <thead>\n",
       "    <tr style=\"text-align: right;\">\n",
       "      <th></th>\n",
       "      <th>tweet_id</th>\n",
       "      <th>in_reply_to_status_id</th>\n",
       "      <th>in_reply_to_user_id</th>\n",
       "      <th>timestamp</th>\n",
       "      <th>source</th>\n",
       "      <th>text</th>\n",
       "      <th>retweeted_status_id</th>\n",
       "      <th>retweeted_status_user_id</th>\n",
       "      <th>retweeted_status_timestamp</th>\n",
       "      <th>expanded_urls</th>\n",
       "      <th>rating_numerator</th>\n",
       "      <th>rating_denominator</th>\n",
       "      <th>name</th>\n",
       "      <th>doggo</th>\n",
       "      <th>floofer</th>\n",
       "      <th>pupper</th>\n",
       "      <th>puppo</th>\n",
       "    </tr>\n",
       "  </thead>\n",
       "  <tbody>\n",
       "    <tr>\n",
       "      <th>0</th>\n",
       "      <td>892420643555336193</td>\n",
       "      <td>NaN</td>\n",
       "      <td>NaN</td>\n",
       "      <td>2017-08-01 16:23:56 +0000</td>\n",
       "      <td>&lt;a href=\"http://twitter.com/download/iphone\" r...</td>\n",
       "      <td>This is Phineas. He's a mystical boy. Only eve...</td>\n",
       "      <td>NaN</td>\n",
       "      <td>NaN</td>\n",
       "      <td>NaN</td>\n",
       "      <td>https://twitter.com/dog_rates/status/892420643...</td>\n",
       "      <td>13</td>\n",
       "      <td>10</td>\n",
       "      <td>Phineas</td>\n",
       "      <td>None</td>\n",
       "      <td>None</td>\n",
       "      <td>None</td>\n",
       "      <td>None</td>\n",
       "    </tr>\n",
       "    <tr>\n",
       "      <th>1</th>\n",
       "      <td>892177421306343426</td>\n",
       "      <td>NaN</td>\n",
       "      <td>NaN</td>\n",
       "      <td>2017-08-01 00:17:27 +0000</td>\n",
       "      <td>&lt;a href=\"http://twitter.com/download/iphone\" r...</td>\n",
       "      <td>This is Tilly. She's just checking pup on you....</td>\n",
       "      <td>NaN</td>\n",
       "      <td>NaN</td>\n",
       "      <td>NaN</td>\n",
       "      <td>https://twitter.com/dog_rates/status/892177421...</td>\n",
       "      <td>13</td>\n",
       "      <td>10</td>\n",
       "      <td>Tilly</td>\n",
       "      <td>None</td>\n",
       "      <td>None</td>\n",
       "      <td>None</td>\n",
       "      <td>None</td>\n",
       "    </tr>\n",
       "    <tr>\n",
       "      <th>2</th>\n",
       "      <td>891815181378084864</td>\n",
       "      <td>NaN</td>\n",
       "      <td>NaN</td>\n",
       "      <td>2017-07-31 00:18:03 +0000</td>\n",
       "      <td>&lt;a href=\"http://twitter.com/download/iphone\" r...</td>\n",
       "      <td>This is Archie. He is a rare Norwegian Pouncin...</td>\n",
       "      <td>NaN</td>\n",
       "      <td>NaN</td>\n",
       "      <td>NaN</td>\n",
       "      <td>https://twitter.com/dog_rates/status/891815181...</td>\n",
       "      <td>12</td>\n",
       "      <td>10</td>\n",
       "      <td>Archie</td>\n",
       "      <td>None</td>\n",
       "      <td>None</td>\n",
       "      <td>None</td>\n",
       "      <td>None</td>\n",
       "    </tr>\n",
       "    <tr>\n",
       "      <th>3</th>\n",
       "      <td>891689557279858688</td>\n",
       "      <td>NaN</td>\n",
       "      <td>NaN</td>\n",
       "      <td>2017-07-30 15:58:51 +0000</td>\n",
       "      <td>&lt;a href=\"http://twitter.com/download/iphone\" r...</td>\n",
       "      <td>This is Darla. She commenced a snooze mid meal...</td>\n",
       "      <td>NaN</td>\n",
       "      <td>NaN</td>\n",
       "      <td>NaN</td>\n",
       "      <td>https://twitter.com/dog_rates/status/891689557...</td>\n",
       "      <td>13</td>\n",
       "      <td>10</td>\n",
       "      <td>Darla</td>\n",
       "      <td>None</td>\n",
       "      <td>None</td>\n",
       "      <td>None</td>\n",
       "      <td>None</td>\n",
       "    </tr>\n",
       "    <tr>\n",
       "      <th>4</th>\n",
       "      <td>891327558926688256</td>\n",
       "      <td>NaN</td>\n",
       "      <td>NaN</td>\n",
       "      <td>2017-07-29 16:00:24 +0000</td>\n",
       "      <td>&lt;a href=\"http://twitter.com/download/iphone\" r...</td>\n",
       "      <td>This is Franklin. He would like you to stop ca...</td>\n",
       "      <td>NaN</td>\n",
       "      <td>NaN</td>\n",
       "      <td>NaN</td>\n",
       "      <td>https://twitter.com/dog_rates/status/891327558...</td>\n",
       "      <td>12</td>\n",
       "      <td>10</td>\n",
       "      <td>Franklin</td>\n",
       "      <td>None</td>\n",
       "      <td>None</td>\n",
       "      <td>None</td>\n",
       "      <td>None</td>\n",
       "    </tr>\n",
       "  </tbody>\n",
       "</table>\n",
       "</div>"
      ],
      "text/plain": [
       "             tweet_id  in_reply_to_status_id  in_reply_to_user_id  \\\n",
       "0  892420643555336193                    NaN                  NaN   \n",
       "1  892177421306343426                    NaN                  NaN   \n",
       "2  891815181378084864                    NaN                  NaN   \n",
       "3  891689557279858688                    NaN                  NaN   \n",
       "4  891327558926688256                    NaN                  NaN   \n",
       "\n",
       "                   timestamp  \\\n",
       "0  2017-08-01 16:23:56 +0000   \n",
       "1  2017-08-01 00:17:27 +0000   \n",
       "2  2017-07-31 00:18:03 +0000   \n",
       "3  2017-07-30 15:58:51 +0000   \n",
       "4  2017-07-29 16:00:24 +0000   \n",
       "\n",
       "                                              source  \\\n",
       "0  <a href=\"http://twitter.com/download/iphone\" r...   \n",
       "1  <a href=\"http://twitter.com/download/iphone\" r...   \n",
       "2  <a href=\"http://twitter.com/download/iphone\" r...   \n",
       "3  <a href=\"http://twitter.com/download/iphone\" r...   \n",
       "4  <a href=\"http://twitter.com/download/iphone\" r...   \n",
       "\n",
       "                                                text  retweeted_status_id  \\\n",
       "0  This is Phineas. He's a mystical boy. Only eve...                  NaN   \n",
       "1  This is Tilly. She's just checking pup on you....                  NaN   \n",
       "2  This is Archie. He is a rare Norwegian Pouncin...                  NaN   \n",
       "3  This is Darla. She commenced a snooze mid meal...                  NaN   \n",
       "4  This is Franklin. He would like you to stop ca...                  NaN   \n",
       "\n",
       "   retweeted_status_user_id retweeted_status_timestamp  \\\n",
       "0                       NaN                        NaN   \n",
       "1                       NaN                        NaN   \n",
       "2                       NaN                        NaN   \n",
       "3                       NaN                        NaN   \n",
       "4                       NaN                        NaN   \n",
       "\n",
       "                                       expanded_urls  rating_numerator  \\\n",
       "0  https://twitter.com/dog_rates/status/892420643...                13   \n",
       "1  https://twitter.com/dog_rates/status/892177421...                13   \n",
       "2  https://twitter.com/dog_rates/status/891815181...                12   \n",
       "3  https://twitter.com/dog_rates/status/891689557...                13   \n",
       "4  https://twitter.com/dog_rates/status/891327558...                12   \n",
       "\n",
       "   rating_denominator      name doggo floofer pupper puppo  \n",
       "0                  10   Phineas  None    None   None  None  \n",
       "1                  10     Tilly  None    None   None  None  \n",
       "2                  10    Archie  None    None   None  None  \n",
       "3                  10     Darla  None    None   None  None  \n",
       "4                  10  Franklin  None    None   None  None  "
      ]
     },
     "execution_count": 106,
     "metadata": {},
     "output_type": "execute_result"
    }
   ],
   "source": [
    "twitter_archive.head()"
   ]
  },
  {
   "cell_type": "code",
   "execution_count": 105,
   "metadata": {
    "scrolled": true
   },
   "outputs": [
    {
     "name": "stdout",
     "output_type": "stream",
     "text": [
      "<class 'pandas.core.frame.DataFrame'>\n",
      "RangeIndex: 2356 entries, 0 to 2355\n",
      "Data columns (total 17 columns):\n",
      " #   Column                      Non-Null Count  Dtype  \n",
      "---  ------                      --------------  -----  \n",
      " 0   tweet_id                    2356 non-null   int64  \n",
      " 1   in_reply_to_status_id       78 non-null     float64\n",
      " 2   in_reply_to_user_id         78 non-null     float64\n",
      " 3   timestamp                   2356 non-null   object \n",
      " 4   source                      2356 non-null   object \n",
      " 5   text                        2356 non-null   object \n",
      " 6   retweeted_status_id         181 non-null    float64\n",
      " 7   retweeted_status_user_id    181 non-null    float64\n",
      " 8   retweeted_status_timestamp  181 non-null    object \n",
      " 9   expanded_urls               2297 non-null   object \n",
      " 10  rating_numerator            2356 non-null   int64  \n",
      " 11  rating_denominator          2356 non-null   int64  \n",
      " 12  name                        2356 non-null   object \n",
      " 13  doggo                       2356 non-null   object \n",
      " 14  floofer                     2356 non-null   object \n",
      " 15  pupper                      2356 non-null   object \n",
      " 16  puppo                       2356 non-null   object \n",
      "dtypes: float64(4), int64(3), object(10)\n",
      "memory usage: 313.0+ KB\n"
     ]
    }
   ],
   "source": [
    "twitter_archive.info()"
   ]
  },
  {
   "cell_type": "code",
   "execution_count": 107,
   "metadata": {
    "scrolled": true
   },
   "outputs": [
    {
     "data": {
      "text/plain": [
       "None        745\n",
       "a            55\n",
       "Charlie      12\n",
       "Lucy         11\n",
       "Cooper       11\n",
       "           ... \n",
       "Hall          1\n",
       "Gerbald       1\n",
       "Pupcasso      1\n",
       "Napolean      1\n",
       "Leonard       1\n",
       "Name: name, Length: 957, dtype: int64"
      ]
     },
     "execution_count": 107,
     "metadata": {},
     "output_type": "execute_result"
    }
   ],
   "source": [
    "twitter_archive.name.value_counts()"
   ]
  },
  {
   "cell_type": "code",
   "execution_count": 112,
   "metadata": {
    "scrolled": true
   },
   "outputs": [
    {
     "data": {
      "text/plain": [
       "12      558\n",
       "11      464\n",
       "10      461\n",
       "13      351\n",
       "9       158\n",
       "8       102\n",
       "7        55\n",
       "14       54\n",
       "5        37\n",
       "6        32\n",
       "3        19\n",
       "4        17\n",
       "1         9\n",
       "2         9\n",
       "0         2\n",
       "15        2\n",
       "75        2\n",
       "420       2\n",
       "182       1\n",
       "204       1\n",
       "143       1\n",
       "121       1\n",
       "99        1\n",
       "20        1\n",
       "45        1\n",
       "27        1\n",
       "17        1\n",
       "24        1\n",
       "26        1\n",
       "44        1\n",
       "50        1\n",
       "60        1\n",
       "80        1\n",
       "84        1\n",
       "88        1\n",
       "1776      1\n",
       "960       1\n",
       "666       1\n",
       "144       1\n",
       "165       1\n",
       "Name: rating_numerator, dtype: int64"
      ]
     },
     "execution_count": 112,
     "metadata": {},
     "output_type": "execute_result"
    }
   ],
   "source": [
    "twitter_archive.rating_numerator.value_counts()"
   ]
  },
  {
   "cell_type": "code",
   "execution_count": 120,
   "metadata": {
    "scrolled": true
   },
   "outputs": [
    {
     "data": {
      "text/plain": [
       "str"
      ]
     },
     "execution_count": 120,
     "metadata": {},
     "output_type": "execute_result"
    }
   ],
   "source": [
    "type(twitter_archive.doggo[0])"
   ]
  },
  {
   "cell_type": "code",
   "execution_count": 7,
   "metadata": {},
   "outputs": [
    {
     "data": {
      "text/plain": [
       "59"
      ]
     },
     "execution_count": 7,
     "metadata": {},
     "output_type": "execute_result"
    }
   ],
   "source": [
    "len(twitter_archive[twitter_archive.expanded_urls.isnull() == True].expanded_urls)"
   ]
  },
  {
   "cell_type": "code",
   "execution_count": 152,
   "metadata": {},
   "outputs": [
    {
     "data": {
      "text/plain": [
       "6       https://gofundme.com/ydvmve-surgery-for-jax,ht...\n",
       "27      https://www.gofundme.com/mingusneedsus,https:/...\n",
       "30                                                    NaN\n",
       "35      https://twitter.com/4bonds2carbon/status/88551...\n",
       "42      https://twitter.com/kaijohnson_19/status/88396...\n",
       "                              ...                        \n",
       "2189                                                  NaN\n",
       "2212                        https://vine.co/v/ea0OwvPTx9l\n",
       "2259    https://twitter.com/dogratingrating/status/667...\n",
       "2260    https://twitter.com/dogratingrating/status/667...\n",
       "2298                                                  NaN\n",
       "Name: expanded_urls, Length: 257, dtype: object"
      ]
     },
     "execution_count": 152,
     "metadata": {},
     "output_type": "execute_result"
    }
   ],
   "source": [
    "mask1 = twitter_archive.expanded_urls.str.startswith('https://twitter.com/dog_rates') != True\n",
    "twitter_archive[mask1]['expanded_urls']"
   ]
  },
  {
   "cell_type": "code",
   "execution_count": 151,
   "metadata": {},
   "outputs": [
    {
     "data": {
      "text/plain": [
       "array(['https://twitter.com/dog_rates/status/889278841981685760/video/1',\n",
       "       'https://twitter.com/dog_rates/status/887517139158093824/video/1',\n",
       "       'https://twitter.com/dog_rates/status/887343217045368832/video/1',\n",
       "       'https://twitter.com/dog_rates/status/886053434075471873,https://twitter.com/dog_rates/status/886053434075471873',\n",
       "       'https://twitter.com/dog_rates/status/881536004380872706/video/1'],\n",
       "      dtype=object)"
      ]
     },
     "execution_count": 151,
     "metadata": {},
     "output_type": "execute_result"
    }
   ],
   "source": [
    "mask1 = twitter_archive.expanded_urls.str.startswith('https://twitter.com/dog_rates')\n",
    "mask2 = twitter_archive.expanded_urls.str.contains('photo') != True\n",
    "twitter_archive[(mask1 &  mask2)]['expanded_urls'].values[:5]"
   ]
  },
  {
   "cell_type": "code",
   "execution_count": 163,
   "metadata": {},
   "outputs": [
    {
     "data": {
      "text/plain": [
       "0"
      ]
     },
     "execution_count": 163,
     "metadata": {},
     "output_type": "execute_result"
    }
   ],
   "source": [
    "twitter_archive.duplicated()"
   ]
  },
  {
   "cell_type": "code",
   "execution_count": 165,
   "metadata": {
    "scrolled": true
   },
   "outputs": [
    {
     "data": {
      "text/plain": [
       "<a href=\"http://twitter.com/download/iphone\" rel=\"nofollow\">Twitter for iPhone</a>     2221\n",
       "<a href=\"http://vine.co\" rel=\"nofollow\">Vine - Make a Scene</a>                          91\n",
       "<a href=\"http://twitter.com\" rel=\"nofollow\">Twitter Web Client</a>                       33\n",
       "<a href=\"https://about.twitter.com/products/tweetdeck\" rel=\"nofollow\">TweetDeck</a>      11\n",
       "Name: source, dtype: int64"
      ]
     },
     "execution_count": 165,
     "metadata": {},
     "output_type": "execute_result"
    }
   ],
   "source": [
    "twitter_archive.source.value_counts()"
   ]
  },
  {
   "cell_type": "code",
   "execution_count": 167,
   "metadata": {
    "scrolled": false
   },
   "outputs": [
    {
     "name": "stdout",
     "output_type": "stream",
     "text": [
      "<class 'pandas.core.frame.DataFrame'>\n",
      "RangeIndex: 2075 entries, 0 to 2074\n",
      "Data columns (total 12 columns):\n",
      " #   Column    Non-Null Count  Dtype  \n",
      "---  ------    --------------  -----  \n",
      " 0   tweet_id  2075 non-null   int64  \n",
      " 1   jpg_url   2075 non-null   object \n",
      " 2   img_num   2075 non-null   int64  \n",
      " 3   p1        2075 non-null   object \n",
      " 4   p1_conf   2075 non-null   float64\n",
      " 5   p1_dog    2075 non-null   bool   \n",
      " 6   p2        2075 non-null   object \n",
      " 7   p2_conf   2075 non-null   float64\n",
      " 8   p2_dog    2075 non-null   bool   \n",
      " 9   p3        2075 non-null   object \n",
      " 10  p3_conf   2075 non-null   float64\n",
      " 11  p3_dog    2075 non-null   bool   \n",
      "dtypes: bool(3), float64(3), int64(2), object(4)\n",
      "memory usage: 152.1+ KB\n"
     ]
    }
   ],
   "source": [
    "image_predictions.info()"
   ]
  },
  {
   "cell_type": "code",
   "execution_count": 168,
   "metadata": {},
   "outputs": [
    {
     "name": "stdout",
     "output_type": "stream",
     "text": [
      "<class 'pandas.core.frame.DataFrame'>\n",
      "RangeIndex: 2328 entries, 0 to 2327\n",
      "Data columns (total 3 columns):\n",
      " #   Column          Non-Null Count  Dtype\n",
      "---  ------          --------------  -----\n",
      " 0   tweet_id        2328 non-null   int64\n",
      " 1   retweet_count   2328 non-null   int64\n",
      " 2   favorite_count  2328 non-null   int64\n",
      "dtypes: int64(3)\n",
      "memory usage: 54.7 KB\n"
     ]
    }
   ],
   "source": [
    "api_data.info()"
   ]
  },
  {
   "cell_type": "markdown",
   "metadata": {},
   "source": [
    "#### Quality\n",
    "##### `twitter_archive` table\n",
    "- Missing tweets urls\n",
    "- Unneeded columns that dose not represent a variables in `twitter_archive` :(in_reply_to_status_id, in_reply_to_user_id, retweeted_status_id, retweeted_status_user_id, retweeted_status_timestamp)\n",
    "- Missing dog stages \n",
    "- Not all the tweets from dog_rates \n",
    "- Some tweets dose not contain photos \n",
    "- Some of data are retweets not orginal tweets \n",
    "- Uncorrect values in rating_numerator and rating_denominator colmun \n",
    "- To much text in source column \n",
    "- Uncorrect dog names in name column \n",
    "- Erroneous datatypes (tweet_id, timestamp, source, and dog stages column) \n",
    "\n",
    "\n",
    "\n",
    "\n",
    "#### Tidiness\n",
    "- doggo, floofer, pupper, puppo columns in `twitter_archive` should be in one column \n",
    "- api_data (retweet_count, favorite_count) should be part of the `twitter_archive` table\n",
    "- image_predictions ('jpg_url','p1', 'p1_dog') should be part of the `twitter_archive` table\n",
    "\n",
    "\n",
    "<br></br>\n",
    "<br></br>\n",
    "<br></br>\n",
    "\n",
    "<a id='Cleaning'></a>\n",
    "## Data Cleaning\n",
    "last step in the Data Wrangling process is we clean the issues we document in data assessing, first we will handle the missing data issue, thin the tidiness issues, lastly the rest of quality issues"
   ]
  },
  {
   "cell_type": "code",
   "execution_count": 2,
   "metadata": {},
   "outputs": [],
   "source": [
    "twitter_archive_clean = twitter_archive.copy()"
   ]
  },
  {
   "cell_type": "markdown",
   "metadata": {},
   "source": [
    "### Missing Data"
   ]
  },
  {
   "cell_type": "markdown",
   "metadata": {},
   "source": [
    "#### `twitter_archive`: Missing tweets urls"
   ]
  },
  {
   "cell_type": "markdown",
   "metadata": {},
   "source": [
    "##### Define\n",
    "\n",
    "- Create a list of ids that dose not have url\n",
    "- Extract the missing urls from `tweet_json.txt` file we gathered before\n",
    "- Update the `twitter_archive` with gathered urls\n",
    "- Drop the IDs that still dose not have url"
   ]
  },
  {
   "cell_type": "markdown",
   "metadata": {},
   "source": [
    "##### Code"
   ]
  },
  {
   "cell_type": "code",
   "execution_count": 196,
   "metadata": {},
   "outputs": [],
   "source": [
    "missing_ids = twitter_archive_clean[twitter_archive_clean.expanded_urls.isnull() == True].tweet_id.values"
   ]
  },
  {
   "cell_type": "code",
   "execution_count": 197,
   "metadata": {},
   "outputs": [],
   "source": [
    "# here we will extract the valueble information we need from the tweets stored in tweet_json.txt\n",
    "missing_urls = []\n",
    "with open(\"tweet_json.txt\") as file:\n",
    "    for line in file:\n",
    "        tweet = json.loads(line)\n",
    "\n",
    "        if tweet['id'] in missing_ids and 'extended_entities' in tweet:\n",
    "            missing_urls.append({\n",
    "                'tweet_id': tweet['id'],\n",
    "                'expanded_url': tweet['extended_entities']['media'][0]['expanded_url']\n",
    "\n",
    "            })"
   ]
  },
  {
   "cell_type": "code",
   "execution_count": 198,
   "metadata": {
    "scrolled": true
   },
   "outputs": [
    {
     "data": {
      "text/plain": [
       "[]"
      ]
     },
     "execution_count": 198,
     "metadata": {},
     "output_type": "execute_result"
    }
   ],
   "source": [
    "missing_urls"
   ]
  },
  {
   "cell_type": "markdown",
   "metadata": {},
   "source": [
    "it turns out we did not find any of missing url ids in `tweet_json.txt` we gathered before, that means this tweets might be deleted or some problem happen with it so i will just drop it"
   ]
  },
  {
   "cell_type": "code",
   "execution_count": 199,
   "metadata": {},
   "outputs": [],
   "source": [
    "twitter_archive_clean = twitter_archive_clean[twitter_archive_clean.expanded_urls.notnull()]"
   ]
  },
  {
   "cell_type": "markdown",
   "metadata": {},
   "source": [
    "##### Test"
   ]
  },
  {
   "cell_type": "code",
   "execution_count": 200,
   "metadata": {},
   "outputs": [
    {
     "data": {
      "text/plain": [
       "0"
      ]
     },
     "execution_count": 200,
     "metadata": {},
     "output_type": "execute_result"
    }
   ],
   "source": [
    "twitter_archive_clean[twitter_archive_clean.expanded_urls.isnull()].tweet_id.count()"
   ]
  },
  {
   "cell_type": "markdown",
   "metadata": {},
   "source": [
    "### Tidiness"
   ]
  },
  {
   "cell_type": "markdown",
   "metadata": {},
   "source": [
    "#### doggo, floofer, pupper, puppo columns in `twitter_archive` should be in one column "
   ]
  },
  {
   "cell_type": "markdown",
   "metadata": {},
   "source": [
    "##### Define\n",
    "- Create another column for tweets that is not one of four stages\n",
    "- Use the melt function to combine the columns into `dog_stage` column\n",
    "- Remove extra rows created by melt function\n",
    "- Remove the extra value column"
   ]
  },
  {
   "cell_type": "markdown",
   "metadata": {},
   "source": [
    "##### Code"
   ]
  },
  {
   "cell_type": "code",
   "execution_count": 6,
   "metadata": {},
   "outputs": [],
   "source": [
    "# create another column for tweets that is not one of four stages\n",
    "mask = ((twitter_archive_clean['doggo'] == 'None') & (twitter_archive_clean['floofer'] == 'None') \n",
    "        & (twitter_archive_clean['pupper'] == 'None') & (twitter_archive_clean['puppo'] == 'None'))\n",
    "\n",
    "twitter_archive_clean['not_specified'] = np.where(mask, 'not_specified', 'None')"
   ]
  },
  {
   "cell_type": "code",
   "execution_count": 7,
   "metadata": {},
   "outputs": [],
   "source": [
    "melted_colums= set(['doggo', 'floofer', 'pupper', 'puppo', 'not_specified'])\n",
    "\n",
    "twitter_archive_clean = twitter_archive_clean.melt(id_vars= set(twitter_archive_clean.columns).difference(melted_colums), \n",
    "                          value_vars= melted_colums, \n",
    "                          var_name='dog_stage', \n",
    "                          value_name='value')\n"
   ]
  },
  {
   "cell_type": "code",
   "execution_count": 8,
   "metadata": {},
   "outputs": [],
   "source": [
    "# remove extra rows created by melt function\n",
    "mask = twitter_archive_clean['dog_stage'] == twitter_archive_clean['value']\n",
    "twitter_archive_clean = twitter_archive_clean[mask]"
   ]
  },
  {
   "cell_type": "code",
   "execution_count": 9,
   "metadata": {},
   "outputs": [],
   "source": [
    "# remove the extra column\n",
    "twitter_archive_clean.drop(columns='value', inplace=True)"
   ]
  },
  {
   "cell_type": "markdown",
   "metadata": {},
   "source": [
    "##### Test"
   ]
  },
  {
   "cell_type": "code",
   "execution_count": 10,
   "metadata": {},
   "outputs": [
    {
     "data": {
      "text/html": [
       "<div>\n",
       "<style scoped>\n",
       "    .dataframe tbody tr th:only-of-type {\n",
       "        vertical-align: middle;\n",
       "    }\n",
       "\n",
       "    .dataframe tbody tr th {\n",
       "        vertical-align: top;\n",
       "    }\n",
       "\n",
       "    .dataframe thead th {\n",
       "        text-align: right;\n",
       "    }\n",
       "</style>\n",
       "<table border=\"1\" class=\"dataframe\">\n",
       "  <thead>\n",
       "    <tr style=\"text-align: right;\">\n",
       "      <th></th>\n",
       "      <th>retweeted_status_id</th>\n",
       "      <th>in_reply_to_status_id</th>\n",
       "      <th>retweeted_status_user_id</th>\n",
       "      <th>timestamp</th>\n",
       "      <th>in_reply_to_user_id</th>\n",
       "      <th>rating_numerator</th>\n",
       "      <th>rating_denominator</th>\n",
       "      <th>retweeted_status_timestamp</th>\n",
       "      <th>name</th>\n",
       "      <th>tweet_id</th>\n",
       "      <th>source</th>\n",
       "      <th>expanded_urls</th>\n",
       "      <th>text</th>\n",
       "      <th>dog_stage</th>\n",
       "    </tr>\n",
       "  </thead>\n",
       "  <tbody>\n",
       "    <tr>\n",
       "      <th>29</th>\n",
       "      <td>NaN</td>\n",
       "      <td>NaN</td>\n",
       "      <td>NaN</td>\n",
       "      <td>2017-07-15 23:25:31 +0000</td>\n",
       "      <td>NaN</td>\n",
       "      <td>12</td>\n",
       "      <td>10</td>\n",
       "      <td>NaN</td>\n",
       "      <td>Roscoe</td>\n",
       "      <td>886366144734445568</td>\n",
       "      <td>&lt;a href=\"http://twitter.com/download/iphone\" r...</td>\n",
       "      <td>https://twitter.com/dog_rates/status/886366144...</td>\n",
       "      <td>This is Roscoe. Another pupper fallen victim t...</td>\n",
       "      <td>pupper</td>\n",
       "    </tr>\n",
       "    <tr>\n",
       "      <th>49</th>\n",
       "      <td>NaN</td>\n",
       "      <td>NaN</td>\n",
       "      <td>NaN</td>\n",
       "      <td>2017-07-06 00:46:41 +0000</td>\n",
       "      <td>NaN</td>\n",
       "      <td>12</td>\n",
       "      <td>10</td>\n",
       "      <td>NaN</td>\n",
       "      <td>Gus</td>\n",
       "      <td>882762694511734784</td>\n",
       "      <td>&lt;a href=\"http://twitter.com/download/iphone\" r...</td>\n",
       "      <td>https://twitter.com/dog_rates/status/882762694...</td>\n",
       "      <td>This is Gus. He's quite the cheeky pupper. Alr...</td>\n",
       "      <td>pupper</td>\n",
       "    </tr>\n",
       "    <tr>\n",
       "      <th>56</th>\n",
       "      <td>NaN</td>\n",
       "      <td>NaN</td>\n",
       "      <td>NaN</td>\n",
       "      <td>2017-07-02 15:32:16 +0000</td>\n",
       "      <td>NaN</td>\n",
       "      <td>14</td>\n",
       "      <td>10</td>\n",
       "      <td>NaN</td>\n",
       "      <td>a</td>\n",
       "      <td>881536004380872706</td>\n",
       "      <td>&lt;a href=\"http://twitter.com/download/iphone\" r...</td>\n",
       "      <td>https://twitter.com/dog_rates/status/881536004...</td>\n",
       "      <td>Here is a pupper approaching maximum borkdrive...</td>\n",
       "      <td>pupper</td>\n",
       "    </tr>\n",
       "    <tr>\n",
       "      <th>78</th>\n",
       "      <td>8.768508e+17</td>\n",
       "      <td>NaN</td>\n",
       "      <td>512804507.0</td>\n",
       "      <td>2017-06-21 19:36:23 +0000</td>\n",
       "      <td>NaN</td>\n",
       "      <td>14</td>\n",
       "      <td>10</td>\n",
       "      <td>2017-06-19 17:14:49 +0000</td>\n",
       "      <td>None</td>\n",
       "      <td>877611172832227328</td>\n",
       "      <td>&lt;a href=\"http://twitter.com/download/iphone\" r...</td>\n",
       "      <td>https://twitter.com/rachel2195/status/87685077...</td>\n",
       "      <td>RT @rachel2195: @dog_rates the boyfriend and h...</td>\n",
       "      <td>pupper</td>\n",
       "    </tr>\n",
       "    <tr>\n",
       "      <th>82</th>\n",
       "      <td>NaN</td>\n",
       "      <td>NaN</td>\n",
       "      <td>NaN</td>\n",
       "      <td>2017-06-19 16:24:33 +0000</td>\n",
       "      <td>NaN</td>\n",
       "      <td>12</td>\n",
       "      <td>10</td>\n",
       "      <td>NaN</td>\n",
       "      <td>Ginger</td>\n",
       "      <td>876838120628539392</td>\n",
       "      <td>&lt;a href=\"http://twitter.com/download/iphone\" r...</td>\n",
       "      <td>https://twitter.com/dog_rates/status/876838120...</td>\n",
       "      <td>This is Ginger. She's having a ruff Monday. To...</td>\n",
       "      <td>pupper</td>\n",
       "    </tr>\n",
       "  </tbody>\n",
       "</table>\n",
       "</div>"
      ],
      "text/plain": [
       "    retweeted_status_id  in_reply_to_status_id  retweeted_status_user_id  \\\n",
       "29                  NaN                    NaN                       NaN   \n",
       "49                  NaN                    NaN                       NaN   \n",
       "56                  NaN                    NaN                       NaN   \n",
       "78         8.768508e+17                    NaN               512804507.0   \n",
       "82                  NaN                    NaN                       NaN   \n",
       "\n",
       "                    timestamp  in_reply_to_user_id  rating_numerator  \\\n",
       "29  2017-07-15 23:25:31 +0000                  NaN                12   \n",
       "49  2017-07-06 00:46:41 +0000                  NaN                12   \n",
       "56  2017-07-02 15:32:16 +0000                  NaN                14   \n",
       "78  2017-06-21 19:36:23 +0000                  NaN                14   \n",
       "82  2017-06-19 16:24:33 +0000                  NaN                12   \n",
       "\n",
       "    rating_denominator retweeted_status_timestamp    name            tweet_id  \\\n",
       "29                  10                        NaN  Roscoe  886366144734445568   \n",
       "49                  10                        NaN     Gus  882762694511734784   \n",
       "56                  10                        NaN       a  881536004380872706   \n",
       "78                  10  2017-06-19 17:14:49 +0000    None  877611172832227328   \n",
       "82                  10                        NaN  Ginger  876838120628539392   \n",
       "\n",
       "                                               source  \\\n",
       "29  <a href=\"http://twitter.com/download/iphone\" r...   \n",
       "49  <a href=\"http://twitter.com/download/iphone\" r...   \n",
       "56  <a href=\"http://twitter.com/download/iphone\" r...   \n",
       "78  <a href=\"http://twitter.com/download/iphone\" r...   \n",
       "82  <a href=\"http://twitter.com/download/iphone\" r...   \n",
       "\n",
       "                                        expanded_urls  \\\n",
       "29  https://twitter.com/dog_rates/status/886366144...   \n",
       "49  https://twitter.com/dog_rates/status/882762694...   \n",
       "56  https://twitter.com/dog_rates/status/881536004...   \n",
       "78  https://twitter.com/rachel2195/status/87685077...   \n",
       "82  https://twitter.com/dog_rates/status/876838120...   \n",
       "\n",
       "                                                 text dog_stage  \n",
       "29  This is Roscoe. Another pupper fallen victim t...    pupper  \n",
       "49  This is Gus. He's quite the cheeky pupper. Alr...    pupper  \n",
       "56  Here is a pupper approaching maximum borkdrive...    pupper  \n",
       "78  RT @rachel2195: @dog_rates the boyfriend and h...    pupper  \n",
       "82  This is Ginger. She's having a ruff Monday. To...    pupper  "
      ]
     },
     "execution_count": 10,
     "metadata": {},
     "output_type": "execute_result"
    }
   ],
   "source": [
    "twitter_archive_clean.head()"
   ]
  },
  {
   "cell_type": "code",
   "execution_count": 11,
   "metadata": {},
   "outputs": [
    {
     "data": {
      "text/plain": [
       "0"
      ]
     },
     "execution_count": 11,
     "metadata": {},
     "output_type": "execute_result"
    }
   ],
   "source": [
    "twitter_archive_clean.dog_stage.isnull().sum()"
   ]
  },
  {
   "cell_type": "code",
   "execution_count": 12,
   "metadata": {
    "scrolled": true
   },
   "outputs": [
    {
     "data": {
      "text/plain": [
       "not_specified    1976\n",
       "pupper            257\n",
       "doggo              97\n",
       "puppo              30\n",
       "floofer            10\n",
       "Name: dog_stage, dtype: int64"
      ]
     },
     "execution_count": 12,
     "metadata": {},
     "output_type": "execute_result"
    }
   ],
   "source": [
    "twitter_archive_clean.dog_stage.value_counts()"
   ]
  },
  {
   "cell_type": "markdown",
   "metadata": {},
   "source": [
    "#### api_data (retweet_count, favorite_count) should be part of the `twitter_archive` table"
   ]
  },
  {
   "cell_type": "markdown",
   "metadata": {},
   "source": [
    "##### Define\n",
    "\n",
    "- Perform inner join for `twitter_archive` and `api_data` on `tweet_id` "
   ]
  },
  {
   "cell_type": "markdown",
   "metadata": {},
   "source": [
    "##### Code"
   ]
  },
  {
   "cell_type": "code",
   "execution_count": 13,
   "metadata": {},
   "outputs": [],
   "source": [
    "twitter_archive_clean = pd.merge(twitter_archive_clean, api_data,  how='inner', on='tweet_id')"
   ]
  },
  {
   "cell_type": "markdown",
   "metadata": {},
   "source": [
    "##### Test"
   ]
  },
  {
   "cell_type": "code",
   "execution_count": 14,
   "metadata": {
    "scrolled": false
   },
   "outputs": [
    {
     "data": {
      "text/html": [
       "<div>\n",
       "<style scoped>\n",
       "    .dataframe tbody tr th:only-of-type {\n",
       "        vertical-align: middle;\n",
       "    }\n",
       "\n",
       "    .dataframe tbody tr th {\n",
       "        vertical-align: top;\n",
       "    }\n",
       "\n",
       "    .dataframe thead th {\n",
       "        text-align: right;\n",
       "    }\n",
       "</style>\n",
       "<table border=\"1\" class=\"dataframe\">\n",
       "  <thead>\n",
       "    <tr style=\"text-align: right;\">\n",
       "      <th></th>\n",
       "      <th>retweeted_status_id</th>\n",
       "      <th>in_reply_to_status_id</th>\n",
       "      <th>retweeted_status_user_id</th>\n",
       "      <th>timestamp</th>\n",
       "      <th>in_reply_to_user_id</th>\n",
       "      <th>rating_numerator</th>\n",
       "      <th>rating_denominator</th>\n",
       "      <th>retweeted_status_timestamp</th>\n",
       "      <th>name</th>\n",
       "      <th>tweet_id</th>\n",
       "      <th>source</th>\n",
       "      <th>expanded_urls</th>\n",
       "      <th>text</th>\n",
       "      <th>dog_stage</th>\n",
       "      <th>retweet_count</th>\n",
       "      <th>favorite_count</th>\n",
       "    </tr>\n",
       "  </thead>\n",
       "  <tbody>\n",
       "    <tr>\n",
       "      <th>0</th>\n",
       "      <td>NaN</td>\n",
       "      <td>NaN</td>\n",
       "      <td>NaN</td>\n",
       "      <td>2017-07-15 23:25:31 +0000</td>\n",
       "      <td>NaN</td>\n",
       "      <td>12</td>\n",
       "      <td>10</td>\n",
       "      <td>NaN</td>\n",
       "      <td>Roscoe</td>\n",
       "      <td>886366144734445568</td>\n",
       "      <td>&lt;a href=\"http://twitter.com/download/iphone\" r...</td>\n",
       "      <td>https://twitter.com/dog_rates/status/886366144...</td>\n",
       "      <td>This is Roscoe. Another pupper fallen victim t...</td>\n",
       "      <td>pupper</td>\n",
       "      <td>2709</td>\n",
       "      <td>18976</td>\n",
       "    </tr>\n",
       "    <tr>\n",
       "      <th>1</th>\n",
       "      <td>NaN</td>\n",
       "      <td>NaN</td>\n",
       "      <td>NaN</td>\n",
       "      <td>2017-07-06 00:46:41 +0000</td>\n",
       "      <td>NaN</td>\n",
       "      <td>12</td>\n",
       "      <td>10</td>\n",
       "      <td>NaN</td>\n",
       "      <td>Gus</td>\n",
       "      <td>882762694511734784</td>\n",
       "      <td>&lt;a href=\"http://twitter.com/download/iphone\" r...</td>\n",
       "      <td>https://twitter.com/dog_rates/status/882762694...</td>\n",
       "      <td>This is Gus. He's quite the cheeky pupper. Alr...</td>\n",
       "      <td>pupper</td>\n",
       "      <td>4206</td>\n",
       "      <td>25358</td>\n",
       "    </tr>\n",
       "    <tr>\n",
       "      <th>2</th>\n",
       "      <td>NaN</td>\n",
       "      <td>NaN</td>\n",
       "      <td>NaN</td>\n",
       "      <td>2017-07-02 15:32:16 +0000</td>\n",
       "      <td>NaN</td>\n",
       "      <td>14</td>\n",
       "      <td>10</td>\n",
       "      <td>NaN</td>\n",
       "      <td>a</td>\n",
       "      <td>881536004380872706</td>\n",
       "      <td>&lt;a href=\"http://twitter.com/download/iphone\" r...</td>\n",
       "      <td>https://twitter.com/dog_rates/status/881536004...</td>\n",
       "      <td>Here is a pupper approaching maximum borkdrive...</td>\n",
       "      <td>pupper</td>\n",
       "      <td>13761</td>\n",
       "      <td>44477</td>\n",
       "    </tr>\n",
       "    <tr>\n",
       "      <th>3</th>\n",
       "      <td>8.768508e+17</td>\n",
       "      <td>NaN</td>\n",
       "      <td>512804507.0</td>\n",
       "      <td>2017-06-21 19:36:23 +0000</td>\n",
       "      <td>NaN</td>\n",
       "      <td>14</td>\n",
       "      <td>10</td>\n",
       "      <td>2017-06-19 17:14:49 +0000</td>\n",
       "      <td>None</td>\n",
       "      <td>877611172832227328</td>\n",
       "      <td>&lt;a href=\"http://twitter.com/download/iphone\" r...</td>\n",
       "      <td>https://twitter.com/rachel2195/status/87685077...</td>\n",
       "      <td>RT @rachel2195: @dog_rates the boyfriend and h...</td>\n",
       "      <td>pupper</td>\n",
       "      <td>70</td>\n",
       "      <td>0</td>\n",
       "    </tr>\n",
       "    <tr>\n",
       "      <th>4</th>\n",
       "      <td>NaN</td>\n",
       "      <td>NaN</td>\n",
       "      <td>NaN</td>\n",
       "      <td>2017-06-19 16:24:33 +0000</td>\n",
       "      <td>NaN</td>\n",
       "      <td>12</td>\n",
       "      <td>10</td>\n",
       "      <td>NaN</td>\n",
       "      <td>Ginger</td>\n",
       "      <td>876838120628539392</td>\n",
       "      <td>&lt;a href=\"http://twitter.com/download/iphone\" r...</td>\n",
       "      <td>https://twitter.com/dog_rates/status/876838120...</td>\n",
       "      <td>This is Ginger. She's having a ruff Monday. To...</td>\n",
       "      <td>pupper</td>\n",
       "      <td>2871</td>\n",
       "      <td>18645</td>\n",
       "    </tr>\n",
       "  </tbody>\n",
       "</table>\n",
       "</div>"
      ],
      "text/plain": [
       "   retweeted_status_id  in_reply_to_status_id  retweeted_status_user_id  \\\n",
       "0                  NaN                    NaN                       NaN   \n",
       "1                  NaN                    NaN                       NaN   \n",
       "2                  NaN                    NaN                       NaN   \n",
       "3         8.768508e+17                    NaN               512804507.0   \n",
       "4                  NaN                    NaN                       NaN   \n",
       "\n",
       "                   timestamp  in_reply_to_user_id  rating_numerator  \\\n",
       "0  2017-07-15 23:25:31 +0000                  NaN                12   \n",
       "1  2017-07-06 00:46:41 +0000                  NaN                12   \n",
       "2  2017-07-02 15:32:16 +0000                  NaN                14   \n",
       "3  2017-06-21 19:36:23 +0000                  NaN                14   \n",
       "4  2017-06-19 16:24:33 +0000                  NaN                12   \n",
       "\n",
       "   rating_denominator retweeted_status_timestamp    name            tweet_id  \\\n",
       "0                  10                        NaN  Roscoe  886366144734445568   \n",
       "1                  10                        NaN     Gus  882762694511734784   \n",
       "2                  10                        NaN       a  881536004380872706   \n",
       "3                  10  2017-06-19 17:14:49 +0000    None  877611172832227328   \n",
       "4                  10                        NaN  Ginger  876838120628539392   \n",
       "\n",
       "                                              source  \\\n",
       "0  <a href=\"http://twitter.com/download/iphone\" r...   \n",
       "1  <a href=\"http://twitter.com/download/iphone\" r...   \n",
       "2  <a href=\"http://twitter.com/download/iphone\" r...   \n",
       "3  <a href=\"http://twitter.com/download/iphone\" r...   \n",
       "4  <a href=\"http://twitter.com/download/iphone\" r...   \n",
       "\n",
       "                                       expanded_urls  \\\n",
       "0  https://twitter.com/dog_rates/status/886366144...   \n",
       "1  https://twitter.com/dog_rates/status/882762694...   \n",
       "2  https://twitter.com/dog_rates/status/881536004...   \n",
       "3  https://twitter.com/rachel2195/status/87685077...   \n",
       "4  https://twitter.com/dog_rates/status/876838120...   \n",
       "\n",
       "                                                text dog_stage  retweet_count  \\\n",
       "0  This is Roscoe. Another pupper fallen victim t...    pupper           2709   \n",
       "1  This is Gus. He's quite the cheeky pupper. Alr...    pupper           4206   \n",
       "2  Here is a pupper approaching maximum borkdrive...    pupper          13761   \n",
       "3  RT @rachel2195: @dog_rates the boyfriend and h...    pupper             70   \n",
       "4  This is Ginger. She's having a ruff Monday. To...    pupper           2871   \n",
       "\n",
       "   favorite_count  \n",
       "0           18976  \n",
       "1           25358  \n",
       "2           44477  \n",
       "3               0  \n",
       "4           18645  "
      ]
     },
     "execution_count": 14,
     "metadata": {},
     "output_type": "execute_result"
    }
   ],
   "source": [
    "twitter_archive_clean.head()"
   ]
  },
  {
   "cell_type": "markdown",
   "metadata": {},
   "source": [
    "#### image_predictions ('jpg_url','p1', 'p1_dog') should be part of the `twitter_archive` table"
   ]
  },
  {
   "cell_type": "markdown",
   "metadata": {},
   "source": [
    "##### Define\n",
    "\n",
    "- Perform inner join for `twitter_archive` and `image_predictions` on `tweet_id` "
   ]
  },
  {
   "cell_type": "markdown",
   "metadata": {},
   "source": [
    "##### Code"
   ]
  },
  {
   "cell_type": "code",
   "execution_count": 15,
   "metadata": {},
   "outputs": [],
   "source": [
    "twitter_archive_clean =  pd.merge(twitter_archive_clean, image_predictions[['tweet_id','jpg_url', 'p1', 'p1_dog']],  how='inner', on='tweet_id')"
   ]
  },
  {
   "cell_type": "markdown",
   "metadata": {},
   "source": [
    "##### Test"
   ]
  },
  {
   "cell_type": "code",
   "execution_count": 16,
   "metadata": {
    "scrolled": true
   },
   "outputs": [
    {
     "data": {
      "text/html": [
       "<div>\n",
       "<style scoped>\n",
       "    .dataframe tbody tr th:only-of-type {\n",
       "        vertical-align: middle;\n",
       "    }\n",
       "\n",
       "    .dataframe tbody tr th {\n",
       "        vertical-align: top;\n",
       "    }\n",
       "\n",
       "    .dataframe thead th {\n",
       "        text-align: right;\n",
       "    }\n",
       "</style>\n",
       "<table border=\"1\" class=\"dataframe\">\n",
       "  <thead>\n",
       "    <tr style=\"text-align: right;\">\n",
       "      <th></th>\n",
       "      <th>retweeted_status_id</th>\n",
       "      <th>in_reply_to_status_id</th>\n",
       "      <th>retweeted_status_user_id</th>\n",
       "      <th>timestamp</th>\n",
       "      <th>in_reply_to_user_id</th>\n",
       "      <th>rating_numerator</th>\n",
       "      <th>rating_denominator</th>\n",
       "      <th>retweeted_status_timestamp</th>\n",
       "      <th>name</th>\n",
       "      <th>tweet_id</th>\n",
       "      <th>source</th>\n",
       "      <th>expanded_urls</th>\n",
       "      <th>text</th>\n",
       "      <th>dog_stage</th>\n",
       "      <th>retweet_count</th>\n",
       "      <th>favorite_count</th>\n",
       "      <th>jpg_url</th>\n",
       "      <th>p1</th>\n",
       "      <th>p1_dog</th>\n",
       "    </tr>\n",
       "  </thead>\n",
       "  <tbody>\n",
       "    <tr>\n",
       "      <th>0</th>\n",
       "      <td>NaN</td>\n",
       "      <td>NaN</td>\n",
       "      <td>NaN</td>\n",
       "      <td>2017-07-15 23:25:31 +0000</td>\n",
       "      <td>NaN</td>\n",
       "      <td>12</td>\n",
       "      <td>10</td>\n",
       "      <td>NaN</td>\n",
       "      <td>Roscoe</td>\n",
       "      <td>886366144734445568</td>\n",
       "      <td>&lt;a href=\"http://twitter.com/download/iphone\" r...</td>\n",
       "      <td>https://twitter.com/dog_rates/status/886366144...</td>\n",
       "      <td>This is Roscoe. Another pupper fallen victim t...</td>\n",
       "      <td>pupper</td>\n",
       "      <td>2709</td>\n",
       "      <td>18976</td>\n",
       "      <td>https://pbs.twimg.com/media/DE0BTnQUwAApKEH.jpg</td>\n",
       "      <td>French_bulldog</td>\n",
       "      <td>True</td>\n",
       "    </tr>\n",
       "    <tr>\n",
       "      <th>1</th>\n",
       "      <td>NaN</td>\n",
       "      <td>NaN</td>\n",
       "      <td>NaN</td>\n",
       "      <td>2017-07-06 00:46:41 +0000</td>\n",
       "      <td>NaN</td>\n",
       "      <td>12</td>\n",
       "      <td>10</td>\n",
       "      <td>NaN</td>\n",
       "      <td>Gus</td>\n",
       "      <td>882762694511734784</td>\n",
       "      <td>&lt;a href=\"http://twitter.com/download/iphone\" r...</td>\n",
       "      <td>https://twitter.com/dog_rates/status/882762694...</td>\n",
       "      <td>This is Gus. He's quite the cheeky pupper. Alr...</td>\n",
       "      <td>pupper</td>\n",
       "      <td>4206</td>\n",
       "      <td>25358</td>\n",
       "      <td>https://pbs.twimg.com/media/DEAz_HHXsAA-p_z.jpg</td>\n",
       "      <td>Labrador_retriever</td>\n",
       "      <td>True</td>\n",
       "    </tr>\n",
       "    <tr>\n",
       "      <th>2</th>\n",
       "      <td>NaN</td>\n",
       "      <td>NaN</td>\n",
       "      <td>NaN</td>\n",
       "      <td>2017-07-02 15:32:16 +0000</td>\n",
       "      <td>NaN</td>\n",
       "      <td>14</td>\n",
       "      <td>10</td>\n",
       "      <td>NaN</td>\n",
       "      <td>a</td>\n",
       "      <td>881536004380872706</td>\n",
       "      <td>&lt;a href=\"http://twitter.com/download/iphone\" r...</td>\n",
       "      <td>https://twitter.com/dog_rates/status/881536004...</td>\n",
       "      <td>Here is a pupper approaching maximum borkdrive...</td>\n",
       "      <td>pupper</td>\n",
       "      <td>13761</td>\n",
       "      <td>44477</td>\n",
       "      <td>https://pbs.twimg.com/ext_tw_video_thumb/88153...</td>\n",
       "      <td>Samoyed</td>\n",
       "      <td>True</td>\n",
       "    </tr>\n",
       "    <tr>\n",
       "      <th>3</th>\n",
       "      <td>8.768508e+17</td>\n",
       "      <td>NaN</td>\n",
       "      <td>512804507.0</td>\n",
       "      <td>2017-06-21 19:36:23 +0000</td>\n",
       "      <td>NaN</td>\n",
       "      <td>14</td>\n",
       "      <td>10</td>\n",
       "      <td>2017-06-19 17:14:49 +0000</td>\n",
       "      <td>None</td>\n",
       "      <td>877611172832227328</td>\n",
       "      <td>&lt;a href=\"http://twitter.com/download/iphone\" r...</td>\n",
       "      <td>https://twitter.com/rachel2195/status/87685077...</td>\n",
       "      <td>RT @rachel2195: @dog_rates the boyfriend and h...</td>\n",
       "      <td>pupper</td>\n",
       "      <td>70</td>\n",
       "      <td>0</td>\n",
       "      <td>https://pbs.twimg.com/media/DCszHgmW0AAmIpT.jpg</td>\n",
       "      <td>Irish_setter</td>\n",
       "      <td>True</td>\n",
       "    </tr>\n",
       "    <tr>\n",
       "      <th>4</th>\n",
       "      <td>NaN</td>\n",
       "      <td>NaN</td>\n",
       "      <td>NaN</td>\n",
       "      <td>2017-06-19 16:24:33 +0000</td>\n",
       "      <td>NaN</td>\n",
       "      <td>12</td>\n",
       "      <td>10</td>\n",
       "      <td>NaN</td>\n",
       "      <td>Ginger</td>\n",
       "      <td>876838120628539392</td>\n",
       "      <td>&lt;a href=\"http://twitter.com/download/iphone\" r...</td>\n",
       "      <td>https://twitter.com/dog_rates/status/876838120...</td>\n",
       "      <td>This is Ginger. She's having a ruff Monday. To...</td>\n",
       "      <td>pupper</td>\n",
       "      <td>2871</td>\n",
       "      <td>18645</td>\n",
       "      <td>https://pbs.twimg.com/media/DCsnnZsVwAEfkyi.jpg</td>\n",
       "      <td>bloodhound</td>\n",
       "      <td>True</td>\n",
       "    </tr>\n",
       "  </tbody>\n",
       "</table>\n",
       "</div>"
      ],
      "text/plain": [
       "   retweeted_status_id  in_reply_to_status_id  retweeted_status_user_id  \\\n",
       "0                  NaN                    NaN                       NaN   \n",
       "1                  NaN                    NaN                       NaN   \n",
       "2                  NaN                    NaN                       NaN   \n",
       "3         8.768508e+17                    NaN               512804507.0   \n",
       "4                  NaN                    NaN                       NaN   \n",
       "\n",
       "                   timestamp  in_reply_to_user_id  rating_numerator  \\\n",
       "0  2017-07-15 23:25:31 +0000                  NaN                12   \n",
       "1  2017-07-06 00:46:41 +0000                  NaN                12   \n",
       "2  2017-07-02 15:32:16 +0000                  NaN                14   \n",
       "3  2017-06-21 19:36:23 +0000                  NaN                14   \n",
       "4  2017-06-19 16:24:33 +0000                  NaN                12   \n",
       "\n",
       "   rating_denominator retweeted_status_timestamp    name            tweet_id  \\\n",
       "0                  10                        NaN  Roscoe  886366144734445568   \n",
       "1                  10                        NaN     Gus  882762694511734784   \n",
       "2                  10                        NaN       a  881536004380872706   \n",
       "3                  10  2017-06-19 17:14:49 +0000    None  877611172832227328   \n",
       "4                  10                        NaN  Ginger  876838120628539392   \n",
       "\n",
       "                                              source  \\\n",
       "0  <a href=\"http://twitter.com/download/iphone\" r...   \n",
       "1  <a href=\"http://twitter.com/download/iphone\" r...   \n",
       "2  <a href=\"http://twitter.com/download/iphone\" r...   \n",
       "3  <a href=\"http://twitter.com/download/iphone\" r...   \n",
       "4  <a href=\"http://twitter.com/download/iphone\" r...   \n",
       "\n",
       "                                       expanded_urls  \\\n",
       "0  https://twitter.com/dog_rates/status/886366144...   \n",
       "1  https://twitter.com/dog_rates/status/882762694...   \n",
       "2  https://twitter.com/dog_rates/status/881536004...   \n",
       "3  https://twitter.com/rachel2195/status/87685077...   \n",
       "4  https://twitter.com/dog_rates/status/876838120...   \n",
       "\n",
       "                                                text dog_stage  retweet_count  \\\n",
       "0  This is Roscoe. Another pupper fallen victim t...    pupper           2709   \n",
       "1  This is Gus. He's quite the cheeky pupper. Alr...    pupper           4206   \n",
       "2  Here is a pupper approaching maximum borkdrive...    pupper          13761   \n",
       "3  RT @rachel2195: @dog_rates the boyfriend and h...    pupper             70   \n",
       "4  This is Ginger. She's having a ruff Monday. To...    pupper           2871   \n",
       "\n",
       "   favorite_count                                            jpg_url  \\\n",
       "0           18976    https://pbs.twimg.com/media/DE0BTnQUwAApKEH.jpg   \n",
       "1           25358    https://pbs.twimg.com/media/DEAz_HHXsAA-p_z.jpg   \n",
       "2           44477  https://pbs.twimg.com/ext_tw_video_thumb/88153...   \n",
       "3               0    https://pbs.twimg.com/media/DCszHgmW0AAmIpT.jpg   \n",
       "4           18645    https://pbs.twimg.com/media/DCsnnZsVwAEfkyi.jpg   \n",
       "\n",
       "                   p1  p1_dog  \n",
       "0      French_bulldog    True  \n",
       "1  Labrador_retriever    True  \n",
       "2             Samoyed    True  \n",
       "3        Irish_setter    True  \n",
       "4          bloodhound    True  "
      ]
     },
     "execution_count": 16,
     "metadata": {},
     "output_type": "execute_result"
    }
   ],
   "source": [
    "twitter_archive_clean.head()"
   ]
  },
  {
   "cell_type": "markdown",
   "metadata": {},
   "source": [
    "### Quality"
   ]
  },
  {
   "cell_type": "markdown",
   "metadata": {},
   "source": [
    "#### Unneeded columns that dose not represent a variables in `twitter_archive` :(in_reply_to_status_id, in_reply_to_user_id, retweeted_status_id, retweeted_status_user_id, retweeted_status_timestamp)"
   ]
  },
  {
   "cell_type": "markdown",
   "metadata": {},
   "source": [
    "##### Define\n",
    "\n",
    "- drop those columns Unneeded columns :(in_reply_to_status_id, in_reply_to_user_id, retweeted_status_id, retweeted_status_user_id, retweeted_status_timestamp)"
   ]
  },
  {
   "cell_type": "markdown",
   "metadata": {},
   "source": [
    "##### Code"
   ]
  },
  {
   "cell_type": "code",
   "execution_count": 17,
   "metadata": {},
   "outputs": [],
   "source": [
    "twitter_archive_clean.drop(['in_reply_to_status_id', 'in_reply_to_user_id', 'retweeted_status_id', \n",
    "                            'retweeted_status_user_id', 'retweeted_status_timestamp'], axis=1, inplace=True)"
   ]
  },
  {
   "cell_type": "markdown",
   "metadata": {},
   "source": [
    "##### Test"
   ]
  },
  {
   "cell_type": "code",
   "execution_count": 18,
   "metadata": {},
   "outputs": [
    {
     "data": {
      "text/html": [
       "<div>\n",
       "<style scoped>\n",
       "    .dataframe tbody tr th:only-of-type {\n",
       "        vertical-align: middle;\n",
       "    }\n",
       "\n",
       "    .dataframe tbody tr th {\n",
       "        vertical-align: top;\n",
       "    }\n",
       "\n",
       "    .dataframe thead th {\n",
       "        text-align: right;\n",
       "    }\n",
       "</style>\n",
       "<table border=\"1\" class=\"dataframe\">\n",
       "  <thead>\n",
       "    <tr style=\"text-align: right;\">\n",
       "      <th></th>\n",
       "      <th>timestamp</th>\n",
       "      <th>rating_numerator</th>\n",
       "      <th>rating_denominator</th>\n",
       "      <th>name</th>\n",
       "      <th>tweet_id</th>\n",
       "      <th>source</th>\n",
       "      <th>expanded_urls</th>\n",
       "      <th>text</th>\n",
       "      <th>dog_stage</th>\n",
       "      <th>retweet_count</th>\n",
       "      <th>favorite_count</th>\n",
       "      <th>jpg_url</th>\n",
       "      <th>p1</th>\n",
       "      <th>p1_dog</th>\n",
       "    </tr>\n",
       "  </thead>\n",
       "  <tbody>\n",
       "    <tr>\n",
       "      <th>0</th>\n",
       "      <td>2017-07-15 23:25:31 +0000</td>\n",
       "      <td>12</td>\n",
       "      <td>10</td>\n",
       "      <td>Roscoe</td>\n",
       "      <td>886366144734445568</td>\n",
       "      <td>&lt;a href=\"http://twitter.com/download/iphone\" r...</td>\n",
       "      <td>https://twitter.com/dog_rates/status/886366144...</td>\n",
       "      <td>This is Roscoe. Another pupper fallen victim t...</td>\n",
       "      <td>pupper</td>\n",
       "      <td>2709</td>\n",
       "      <td>18976</td>\n",
       "      <td>https://pbs.twimg.com/media/DE0BTnQUwAApKEH.jpg</td>\n",
       "      <td>French_bulldog</td>\n",
       "      <td>True</td>\n",
       "    </tr>\n",
       "  </tbody>\n",
       "</table>\n",
       "</div>"
      ],
      "text/plain": [
       "                   timestamp  rating_numerator  rating_denominator    name  \\\n",
       "0  2017-07-15 23:25:31 +0000                12                  10  Roscoe   \n",
       "\n",
       "             tweet_id                                             source  \\\n",
       "0  886366144734445568  <a href=\"http://twitter.com/download/iphone\" r...   \n",
       "\n",
       "                                       expanded_urls  \\\n",
       "0  https://twitter.com/dog_rates/status/886366144...   \n",
       "\n",
       "                                                text dog_stage  retweet_count  \\\n",
       "0  This is Roscoe. Another pupper fallen victim t...    pupper           2709   \n",
       "\n",
       "   favorite_count                                          jpg_url  \\\n",
       "0           18976  https://pbs.twimg.com/media/DE0BTnQUwAApKEH.jpg   \n",
       "\n",
       "               p1  p1_dog  \n",
       "0  French_bulldog    True  "
      ]
     },
     "execution_count": 18,
     "metadata": {},
     "output_type": "execute_result"
    }
   ],
   "source": [
    "twitter_archive_clean.head(1)"
   ]
  },
  {
   "cell_type": "markdown",
   "metadata": {},
   "source": [
    "#### Missing dog stage"
   ]
  },
  {
   "cell_type": "markdown",
   "metadata": {},
   "source": [
    "##### Define\n",
    "\n",
    "- Create mask of all not_specified dogs\n",
    "- Search for each stage in the text of none specified dogs \n",
    "- Update the not_specified dogs appear to have stage in thire text"
   ]
  },
  {
   "cell_type": "markdown",
   "metadata": {},
   "source": [
    "##### Code"
   ]
  },
  {
   "cell_type": "code",
   "execution_count": 19,
   "metadata": {},
   "outputs": [
    {
     "data": {
      "text/plain": [
       "not_specified    1740\n",
       "pupper            221\n",
       "doggo              78\n",
       "puppo              24\n",
       "floofer             8\n",
       "Name: dog_stage, dtype: int64"
      ]
     },
     "execution_count": 19,
     "metadata": {},
     "output_type": "execute_result"
    }
   ],
   "source": [
    "twitter_archive_clean.dog_stage.value_counts()"
   ]
  },
  {
   "cell_type": "code",
   "execution_count": 20,
   "metadata": {},
   "outputs": [
    {
     "data": {
      "text/plain": [
       "6"
      ]
     },
     "execution_count": 20,
     "metadata": {},
     "output_type": "execute_result"
    }
   ],
   "source": [
    "not_specified_mask = twitter_archive_clean.dog_stage == 'not_specified'\n",
    "\n",
    "twitter_archive_clean[not_specified_mask].text.str.contains('doggo').sum()"
   ]
  },
  {
   "cell_type": "code",
   "execution_count": 21,
   "metadata": {},
   "outputs": [],
   "source": [
    "doggo_mask = twitter_archive_clean[not_specified_mask].text.str.contains('doggo')\n",
    "twitter_archive_clean.loc[not_specified_mask & doggo_mask ,'dog_stage'] = 'doggo'"
   ]
  },
  {
   "cell_type": "code",
   "execution_count": 22,
   "metadata": {},
   "outputs": [
    {
     "data": {
      "text/plain": [
       "19"
      ]
     },
     "execution_count": 22,
     "metadata": {},
     "output_type": "execute_result"
    }
   ],
   "source": [
    "#  i have to upate not_specified_mask every time because i don't want to update the same cell twice\n",
    "not_specified_mask = twitter_archive_clean.dog_stage == 'not_specified'\n",
    "\n",
    "twitter_archive_clean[not_specified_mask].text.str.contains('floof').sum()"
   ]
  },
  {
   "cell_type": "code",
   "execution_count": 23,
   "metadata": {},
   "outputs": [],
   "source": [
    "floof_mask = twitter_archive_clean[not_specified_mask].text.str.contains('floof')\n",
    "twitter_archive_clean.loc[not_specified_mask & floof_mask ,'dog_stage'] = 'floofer'"
   ]
  },
  {
   "cell_type": "code",
   "execution_count": 24,
   "metadata": {},
   "outputs": [
    {
     "data": {
      "text/plain": [
       "23"
      ]
     },
     "execution_count": 24,
     "metadata": {},
     "output_type": "execute_result"
    }
   ],
   "source": [
    "not_specified_mask = twitter_archive_clean.dog_stage == 'not_specified'\n",
    "\n",
    "twitter_archive_clean[not_specified_mask].text.str.contains('pupper').sum()"
   ]
  },
  {
   "cell_type": "code",
   "execution_count": 25,
   "metadata": {},
   "outputs": [],
   "source": [
    "pupper_mask = twitter_archive_clean[not_specified_mask].text.str.contains('pupper')\n",
    "twitter_archive_clean.loc[not_specified_mask & pupper_mask ,'dog_stage'] = 'pupper'"
   ]
  },
  {
   "cell_type": "code",
   "execution_count": 26,
   "metadata": {},
   "outputs": [
    {
     "data": {
      "text/plain": [
       "4"
      ]
     },
     "execution_count": 26,
     "metadata": {},
     "output_type": "execute_result"
    }
   ],
   "source": [
    "not_specified_mask = twitter_archive_clean.dog_stage == 'not_specified'\n",
    "\n",
    "twitter_archive_clean[not_specified_mask].text.str.contains('puppo').sum()"
   ]
  },
  {
   "cell_type": "code",
   "execution_count": 27,
   "metadata": {},
   "outputs": [],
   "source": [
    "puppo_mask = twitter_archive_clean[not_specified_mask].text.str.contains('puppo')\n",
    "twitter_archive_clean.loc[not_specified_mask & puppo_mask ,'dog_stage'] = 'puppo'"
   ]
  },
  {
   "cell_type": "markdown",
   "metadata": {},
   "source": [
    "##### Test"
   ]
  },
  {
   "cell_type": "code",
   "execution_count": 28,
   "metadata": {
    "scrolled": true
   },
   "outputs": [
    {
     "data": {
      "text/plain": [
       "not_specified    1688\n",
       "pupper            244\n",
       "doggo              84\n",
       "puppo              28\n",
       "floofer            27\n",
       "Name: dog_stage, dtype: int64"
      ]
     },
     "execution_count": 28,
     "metadata": {},
     "output_type": "execute_result"
    }
   ],
   "source": [
    "twitter_archive_clean.dog_stage.value_counts()"
   ]
  },
  {
   "cell_type": "markdown",
   "metadata": {},
   "source": [
    "#### Not all the tweets from dog_rates"
   ]
  },
  {
   "cell_type": "markdown",
   "metadata": {},
   "source": [
    "##### Define\n",
    "\n",
    "- Drop all tweets that is not from [@dog_rates](https://twitter.com/dog_rates)"
   ]
  },
  {
   "cell_type": "markdown",
   "metadata": {},
   "source": [
    "##### Code"
   ]
  },
  {
   "cell_type": "code",
   "execution_count": 29,
   "metadata": {
    "scrolled": true
   },
   "outputs": [
    {
     "data": {
      "text/plain": [
       "3       https://twitter.com/rachel2195/status/87685077...\n",
       "6       https://www.gofundme.com/help-my-baby-sierra-g...\n",
       "12      https://twitter.com/alexmartindawg/status/8392...\n",
       "59      https://twitter.com/jon_hill987/status/7575971...\n",
       "243     https://www.gofundme.com/help-save-a-pup,https...\n",
       "248     https://www.petfinder.com/petdetail/34918210,h...\n",
       "257     http://us.blastingnews.com/news/2017/01/kentuc...\n",
       "307     https://gofundme.com/ydvmve-surgery-for-jax,ht...\n",
       "324     https://www.gofundme.com/mingusneedsus,https:/...\n",
       "356     https://www.gofundme.com/3yd6y1c,https://twitt...\n",
       "377     https://www.gofundme.com/help-fix-codys-torn-a...\n",
       "386     https://www.gofundme.com/3ti3nps,https://twitt...\n",
       "389     https://twitter.com/rachaeleasler/status/86501...\n",
       "403     https://www.gofundme.com/helpquinny,https://tw...\n",
       "411     https://twitter.com/tallylott/status/860914485...\n",
       "412     https://www.gofundme.com/help-lorenzo-beat-can...\n",
       "424     https://www.gofundme.com/meeko-needs-heart-sur...\n",
       "437     https://www.gofundme.com/bennys-medical-bills,...\n",
       "443     https://twitter.com/eddie_coe98/status/8482893...\n",
       "457     https://twitter.com/basic_vacek_/status/847971...\n",
       "459     https://www.gofundme.com/help-save-rontu,https...\n",
       "462     https://www.petfinder.com/petdetail/37334596,h...\n",
       "477     https://www.gofundme.com/get-indie-home/,https...\n",
       "487     https://www.gofundme.com/3hgsuu0,https://twitt...\n",
       "494     https://twitter.com/KibaDva/status/83890598062...\n",
       "506     https://www.gofundme.com/lolas-life-saving-sur...\n",
       "519     https://twitter.com/EmilieGambril/status/83276...\n",
       "528     http://www.gofundme.com/bluethewhitehusky,http...\n",
       "534     https://www.gofundme.com/sick-baby-samson,http...\n",
       "581     https://www.loveyourmelon.com/pages/ourstory,h...\n",
       "595     https://www.gofundme.com/help-strudel-walk-aga...\n",
       "605     https://www.gofundme.com/surgeryforjacktheminp...\n",
       "626     https://m.facebook.com/story.php?story_fbid=18...\n",
       "632     https://www.gofundme.com/sams-smile,https://tw...\n",
       "789     https://www.patreon.com/WeRateDogs,https://twi...\n",
       "1140    https://twitter.com/twitter/status/71199827977...\n",
       "1158    http://goo.gl/ArWZfi,https://twitter.com/dog_r...\n",
       "1945    https://twitter.com/dogratingrating/status/667...\n",
       "1946    https://twitter.com/dogratingrating/status/667...\n",
       "2048    https://www.gofundme.com/my-puppys-double-cata...\n",
       "2050    https://www.gofundme.com/servicedogoliver,http...\n",
       "Name: expanded_urls, dtype: object"
      ]
     },
     "execution_count": 29,
     "metadata": {},
     "output_type": "execute_result"
    }
   ],
   "source": [
    "mask = twitter_archive_clean.expanded_urls.str.startswith('https://twitter.com/dog_rates')\n",
    "twitter_archive_clean[mask != True].expanded_urls"
   ]
  },
  {
   "cell_type": "code",
   "execution_count": 30,
   "metadata": {},
   "outputs": [],
   "source": [
    "twitter_archive_clean = twitter_archive_clean[mask]"
   ]
  },
  {
   "cell_type": "markdown",
   "metadata": {},
   "source": [
    "##### Test"
   ]
  },
  {
   "cell_type": "code",
   "execution_count": 31,
   "metadata": {},
   "outputs": [
    {
     "data": {
      "text/plain": [
       "Series([], Name: expanded_urls, dtype: object)"
      ]
     },
     "execution_count": 31,
     "metadata": {},
     "output_type": "execute_result"
    }
   ],
   "source": [
    "mask = twitter_archive_clean.expanded_urls.str.startswith('https://twitter.com/dog_rates')\n",
    "twitter_archive_clean[mask != True].expanded_urls"
   ]
  },
  {
   "cell_type": "markdown",
   "metadata": {},
   "source": [
    "####  Some tweets dose not contain photos"
   ]
  },
  {
   "cell_type": "markdown",
   "metadata": {},
   "source": [
    "##### Define\n",
    "\n",
    "- Drop all tweets that dose not have photos"
   ]
  },
  {
   "cell_type": "markdown",
   "metadata": {},
   "source": [
    "##### Code"
   ]
  },
  {
   "cell_type": "code",
   "execution_count": 32,
   "metadata": {
    "scrolled": true
   },
   "outputs": [
    {
     "data": {
      "text/plain": [
       "2       https://twitter.com/dog_rates/status/881536004...\n",
       "22      https://twitter.com/dog_rates/status/817777686...\n",
       "23      https://twitter.com/dog_rates/status/817777686...\n",
       "24      https://twitter.com/dog_rates/status/815966073...\n",
       "25      https://twitter.com/dog_rates/status/815966073...\n",
       "                              ...                        \n",
       "1542    https://twitter.com/dog_rates/status/676957860...\n",
       "1551    https://twitter.com/dog_rates/status/676776431...\n",
       "1591    https://twitter.com/dog_rates/status/675354435...\n",
       "1606    https://twitter.com/dog_rates/status/674805413...\n",
       "2067    https://twitter.com/dog_rates/status/749317047...\n",
       "Name: expanded_urls, Length: 78, dtype: object"
      ]
     },
     "execution_count": 32,
     "metadata": {},
     "output_type": "execute_result"
    }
   ],
   "source": [
    "mask = twitter_archive_clean.expanded_urls.str.contains('photo')\n",
    "twitter_archive_clean[mask != True].expanded_urls"
   ]
  },
  {
   "cell_type": "code",
   "execution_count": 33,
   "metadata": {},
   "outputs": [],
   "source": [
    "twitter_archive_clean = twitter_archive_clean[mask]"
   ]
  },
  {
   "cell_type": "markdown",
   "metadata": {},
   "source": [
    "##### Test"
   ]
  },
  {
   "cell_type": "code",
   "execution_count": 34,
   "metadata": {
    "scrolled": true
   },
   "outputs": [
    {
     "data": {
      "text/plain": [
       "Series([], Name: expanded_urls, dtype: object)"
      ]
     },
     "execution_count": 34,
     "metadata": {},
     "output_type": "execute_result"
    }
   ],
   "source": [
    "mask = twitter_archive_clean.expanded_urls.str.contains('photo')\n",
    "twitter_archive_clean[mask != True].expanded_urls"
   ]
  },
  {
   "cell_type": "markdown",
   "metadata": {},
   "source": [
    "####  Some of data are retweets not orginal tweets"
   ]
  },
  {
   "cell_type": "markdown",
   "metadata": {},
   "source": [
    "##### Define\n",
    "\n",
    "- Drop all records that is retweets"
   ]
  },
  {
   "cell_type": "markdown",
   "metadata": {},
   "source": [
    "##### Code"
   ]
  },
  {
   "cell_type": "code",
   "execution_count": 35,
   "metadata": {
    "scrolled": false
   },
   "outputs": [
    {
     "data": {
      "text/plain": [
       "21      RT @dog_rates: This is Chelsea. She forgot how...\n",
       "38      RT @dog_rates: This is Sampson. He's about to ...\n",
       "46      RT @dog_rates: Everybody look at this beautifu...\n",
       "49      RT @dog_rates: Like father (doggo), like son (...\n",
       "50      RT @dog_rates: Like father (doggo), like son (...\n",
       "54      RT @dog_rates: This is just downright precious...\n",
       "55      RT @dog_rates: This is just downright precious...\n",
       "251     RT @dog_rates: This is Loki. He smiles like El...\n",
       "262     RT @dog_rates: This is Bo. He was a very good ...\n",
       "263     RT @dog_rates: This is Sunny. She was also a v...\n",
       "329     RT @dog_rates: This is Lilly. She just paralle...\n",
       "524     RT @dog_rates: This is Moreton. He's the Good ...\n",
       "525     RT @dog_rates: This is Klein. These pics were ...\n",
       "558     RT @dog_rates: This is Bailey. She loves going...\n",
       "566     RT @dog_rates: We only rate dogs. Please don't...\n",
       "569     RT @dog_rates: This is Paisley. She really wan...\n",
       "574     RT @dog_rates: Meet Hercules. He can have what...\n",
       "580     RT @dog_rates: This is Peaches. She's the ulti...\n",
       "604     RT @dog_rates: This is Larry. He has no self c...\n",
       "612     RT @dog_rates: This is Bruce. He never backs d...\n",
       "638     RT @dog_rates: This is Maximus. His face is st...\n",
       "644     RT @dog_rates: This is Milo. I would do terrib...\n",
       "647     RT @dog_rates: This is Cali. She arrived preas...\n",
       "651     RT @dog_rates: This is Dave. He's currently in...\n",
       "653     RT @dog_rates: This is Penny. She fought a bee...\n",
       "660     RT @dog_rates: This is Rusty. He's going D1 fo...\n",
       "662     RT @dog_rates: I present to you... Dog Jesus. ...\n",
       "666     RT @dog_rates: \"Yep... just as I suspected. Yo...\n",
       "676     RT @dog_rates: This is Tucker. He would like a...\n",
       "682     RT @dog_rates: This is Stubert. He just arrive...\n",
       "683     RT @dog_rates: I'm not sure what's happening h...\n",
       "684     RT @dog_rates: I shall call him squishy and he...\n",
       "685     RT @dog_rates: This is Lola. She fell asleep o...\n",
       "686     RT @dog_rates: This is Paull. He just stubbed ...\n",
       "687     RT @dog_rates: This a Norwegian Pewterschmidt ...\n",
       "688     RT @dog_rates: This is Davey. He'll have your ...\n",
       "695     RT @dog_rates: This is Ruby. She just turned o...\n",
       "702     RT @dog_rates: This is Rizzy. She smiles a lot...\n",
       "704     RT @dog_rates: This is Butter. She can have wh...\n",
       "708     RT @dog_rates: When she says you're a good boy...\n",
       "730     RT @dog_rates: This is Alfie. He's touching a ...\n",
       "732     RT @dog_rates: This is Happy. He's a bathtub r...\n",
       "748     RT @dog_rates: This is Bo and Ty. Bo eats pape...\n",
       "758     RT @dog_rates: This is Scout. He really wants ...\n",
       "772     RT @dog_rates: This is Kenny. He just wants to...\n",
       "778     RT @dog_rates: This is Harper. She scraped her...\n",
       "788     RT @dog_rates: This is Bell. She likes holding...\n",
       "799     RT @dog_rates: This is an East African Chalupa...\n",
       "804     RT @dog_rates: This is Arnie. He's a Nova Scot...\n",
       "824     RT @dog_rates: This is Gromit. He's pupset bec...\n",
       "833     RT @dog_rates: This is Frankie. He's wearing b...\n",
       "859     RT @dog_rates: This is Colby. He's currently r...\n",
       "877     RT @dog_rates: \"Tristan do not speak to me wit...\n",
       "881     RT @dog_rates: Oh. My. God. 13/10 magical af h...\n",
       "896     RT @dog_rates: AT DAWN...\\nWE RIDE\\n\\n11/10 ht...\n",
       "907     RT @dog_rates: This is Chompsky. He lives up t...\n",
       "918     RT @dog_rates: This is Rubio. He has too much ...\n",
       "2051    RT @dog_rates: This is Betty. She's assisting ...\n",
       "Name: text, dtype: object"
      ]
     },
     "execution_count": 35,
     "metadata": {},
     "output_type": "execute_result"
    }
   ],
   "source": [
    "mask =  twitter_archive_clean.text.str.contains(r'^RT @dog_rates:')\n",
    "twitter_archive_clean[mask].text"
   ]
  },
  {
   "cell_type": "code",
   "execution_count": 36,
   "metadata": {},
   "outputs": [],
   "source": [
    "twitter_archive_clean = twitter_archive_clean[mask != True]"
   ]
  },
  {
   "cell_type": "markdown",
   "metadata": {},
   "source": [
    "##### Test"
   ]
  },
  {
   "cell_type": "code",
   "execution_count": 37,
   "metadata": {},
   "outputs": [
    {
     "data": {
      "text/plain": [
       "Series([], Name: text, dtype: object)"
      ]
     },
     "execution_count": 37,
     "metadata": {},
     "output_type": "execute_result"
    }
   ],
   "source": [
    "mask =  twitter_archive_clean.text.str.contains(r'^RT @dog_rates:')\n",
    "twitter_archive_clean[mask].text"
   ]
  },
  {
   "cell_type": "markdown",
   "metadata": {},
   "source": [
    "#### Uncorrect values in rating_numerator and rating_denominator colmun"
   ]
  },
  {
   "cell_type": "markdown",
   "metadata": {},
   "source": [
    "##### Define\n",
    "\n",
    "- Extract the rating from all text using regex\n",
    "- split the rating into rating_numerator and rating_denominator"
   ]
  },
  {
   "cell_type": "markdown",
   "metadata": {},
   "source": [
    "##### Code"
   ]
  },
  {
   "cell_type": "code",
   "execution_count": 38,
   "metadata": {
    "scrolled": true
   },
   "outputs": [
    {
     "data": {
      "text/plain": [
       "12      422\n",
       "10      412\n",
       "11      386\n",
       "13      219\n",
       "9       149\n",
       "8        93\n",
       "7        52\n",
       "5        34\n",
       "6        32\n",
       "14       28\n",
       "3        19\n",
       "4        15\n",
       "2         9\n",
       "1         5\n",
       "0         2\n",
       "420       1\n",
       "84        1\n",
       "204       1\n",
       "144       1\n",
       "143       1\n",
       "121       1\n",
       "99        1\n",
       "88        1\n",
       "27        1\n",
       "80        1\n",
       "75        1\n",
       "60        1\n",
       "50        1\n",
       "45        1\n",
       "44        1\n",
       "26        1\n",
       "1776      1\n",
       "Name: rating_numerator, dtype: int64"
      ]
     },
     "execution_count": 38,
     "metadata": {},
     "output_type": "execute_result"
    }
   ],
   "source": [
    "twitter_archive_clean.rating_numerator.value_counts()"
   ]
  },
  {
   "cell_type": "code",
   "execution_count": 39,
   "metadata": {},
   "outputs": [
    {
     "data": {
      "text/plain": [
       "10     1878\n",
       "50        3\n",
       "11        2\n",
       "80        2\n",
       "2         1\n",
       "20        1\n",
       "40        1\n",
       "70        1\n",
       "90        1\n",
       "110       1\n",
       "120       1\n",
       "130       1\n",
       "170       1\n",
       "Name: rating_denominator, dtype: int64"
      ]
     },
     "execution_count": 39,
     "metadata": {},
     "output_type": "execute_result"
    }
   ],
   "source": [
    "twitter_archive_clean.rating_denominator.value_counts()"
   ]
  },
  {
   "cell_type": "code",
   "execution_count": 40,
   "metadata": {},
   "outputs": [],
   "source": [
    "rating = twitter_archive_clean.text.str.extract(r'(\\d{1,3}/\\d{1,3})')\n",
    "# twitter_archive_clean.rating_numerator = rating[0].str[0:-3]\n",
    "twitter_archive_clean[['rating_numerator', 'rating_denominator']] =rating[0].str.split('/', expand= True)"
   ]
  },
  {
   "cell_type": "code",
   "execution_count": 41,
   "metadata": {},
   "outputs": [],
   "source": [
    "twitter_archive_clean.rating_numerator = twitter_archive_clean.rating_numerator.astype(int)"
   ]
  },
  {
   "cell_type": "code",
   "execution_count": 42,
   "metadata": {},
   "outputs": [],
   "source": [
    "twitter_archive_clean.rating_denominator = twitter_archive_clean.rating_denominator.astype(int)"
   ]
  },
  {
   "cell_type": "markdown",
   "metadata": {},
   "source": [
    "##### Test"
   ]
  },
  {
   "cell_type": "code",
   "execution_count": 43,
   "metadata": {},
   "outputs": [
    {
     "name": "stdout",
     "output_type": "stream",
     "text": [
      "<class 'pandas.core.frame.DataFrame'>\n",
      "Int64Index: 1894 entries, 0 to 2070\n",
      "Data columns (total 14 columns):\n",
      " #   Column              Non-Null Count  Dtype \n",
      "---  ------              --------------  ----- \n",
      " 0   timestamp           1894 non-null   object\n",
      " 1   rating_numerator    1894 non-null   int32 \n",
      " 2   rating_denominator  1894 non-null   int32 \n",
      " 3   name                1894 non-null   object\n",
      " 4   tweet_id            1894 non-null   int64 \n",
      " 5   source              1894 non-null   object\n",
      " 6   expanded_urls       1894 non-null   object\n",
      " 7   text                1894 non-null   object\n",
      " 8   dog_stage           1894 non-null   object\n",
      " 9   retweet_count       1894 non-null   int64 \n",
      " 10  favorite_count      1894 non-null   int64 \n",
      " 11  jpg_url             1894 non-null   object\n",
      " 12  p1                  1894 non-null   object\n",
      " 13  p1_dog              1894 non-null   bool  \n",
      "dtypes: bool(1), int32(2), int64(3), object(8)\n",
      "memory usage: 194.2+ KB\n"
     ]
    }
   ],
   "source": [
    "twitter_archive_clean.info()"
   ]
  },
  {
   "cell_type": "code",
   "execution_count": 44,
   "metadata": {
    "scrolled": true
   },
   "outputs": [
    {
     "data": {
      "text/plain": [
       "12     422\n",
       "10     412\n",
       "11     386\n",
       "13     219\n",
       "9      149\n",
       "8       93\n",
       "7       52\n",
       "5       34\n",
       "6       32\n",
       "14      28\n",
       "3       19\n",
       "4       15\n",
       "2        9\n",
       "1        5\n",
       "0        2\n",
       "420      1\n",
       "84       1\n",
       "204      1\n",
       "144      1\n",
       "143      1\n",
       "121      1\n",
       "99       1\n",
       "88       1\n",
       "27       1\n",
       "80       1\n",
       "75       1\n",
       "60       1\n",
       "50       1\n",
       "45       1\n",
       "44       1\n",
       "26       1\n",
       "776      1\n",
       "Name: rating_numerator, dtype: int64"
      ]
     },
     "execution_count": 44,
     "metadata": {},
     "output_type": "execute_result"
    }
   ],
   "source": [
    "twitter_archive_clean.rating_numerator.value_counts()"
   ]
  },
  {
   "cell_type": "code",
   "execution_count": 45,
   "metadata": {},
   "outputs": [
    {
     "data": {
      "text/plain": [
       "10     1878\n",
       "50        3\n",
       "11        2\n",
       "80        2\n",
       "2         1\n",
       "20        1\n",
       "40        1\n",
       "70        1\n",
       "90        1\n",
       "110       1\n",
       "120       1\n",
       "130       1\n",
       "170       1\n",
       "Name: rating_denominator, dtype: int64"
      ]
     },
     "execution_count": 45,
     "metadata": {},
     "output_type": "execute_result"
    }
   ],
   "source": [
    "twitter_archive_clean.rating_denominator.value_counts()"
   ]
  },
  {
   "cell_type": "markdown",
   "metadata": {},
   "source": [
    "####  To much text in source column "
   ]
  },
  {
   "cell_type": "markdown",
   "metadata": {},
   "source": [
    "##### Define\n",
    "\n",
    "- Replace the long tag with only the source content"
   ]
  },
  {
   "cell_type": "markdown",
   "metadata": {},
   "source": [
    "##### Code"
   ]
  },
  {
   "cell_type": "code",
   "execution_count": 46,
   "metadata": {
    "scrolled": true
   },
   "outputs": [
    {
     "data": {
      "text/plain": [
       "<a href=\"http://twitter.com/download/iphone\" rel=\"nofollow\">Twitter for iPhone</a>     1864\n",
       "<a href=\"http://twitter.com\" rel=\"nofollow\">Twitter Web Client</a>                       20\n",
       "<a href=\"https://about.twitter.com/products/tweetdeck\" rel=\"nofollow\">TweetDeck</a>      10\n",
       "Name: source, dtype: int64"
      ]
     },
     "execution_count": 46,
     "metadata": {},
     "output_type": "execute_result"
    }
   ],
   "source": [
    "twitter_archive_clean.source.value_counts()"
   ]
  },
  {
   "cell_type": "code",
   "execution_count": 47,
   "metadata": {},
   "outputs": [],
   "source": [
    "twitter_archive_clean.source.replace(['<a href=\"http://twitter.com/download/iphone\" rel=\"nofollow\">Twitter for iPhone</a>',\n",
    "                                      '<a href=\"http://twitter.com\" rel=\"nofollow\">Twitter Web Client</a>',\n",
    "                                     '<a href=\"https://about.twitter.com/products/tweetdeck\" rel=\"nofollow\">TweetDeck</a>'],\n",
    "                                    ['iPhone', 'Web Client', 'TweetDeck'], inplace=True)"
   ]
  },
  {
   "cell_type": "markdown",
   "metadata": {},
   "source": [
    "##### Test"
   ]
  },
  {
   "cell_type": "code",
   "execution_count": 48,
   "metadata": {
    "scrolled": false
   },
   "outputs": [
    {
     "data": {
      "text/plain": [
       "iPhone        1864\n",
       "Web Client      20\n",
       "TweetDeck       10\n",
       "Name: source, dtype: int64"
      ]
     },
     "execution_count": 48,
     "metadata": {},
     "output_type": "execute_result"
    }
   ],
   "source": [
    "twitter_archive_clean.source.value_counts()"
   ]
  },
  {
   "cell_type": "markdown",
   "metadata": {},
   "source": [
    "####  Uncorrect dog names in name column"
   ]
  },
  {
   "cell_type": "markdown",
   "metadata": {},
   "source": [
    "##### Define\n",
    "\n",
    "- Make the uncorrect names equal to None\n",
    "- find name pattrens other than \"This is (dog_name)\"\n",
    "- replace the None with this new pattrens"
   ]
  },
  {
   "cell_type": "markdown",
   "metadata": {},
   "source": [
    "##### Code"
   ]
  },
  {
   "cell_type": "code",
   "execution_count": 49,
   "metadata": {},
   "outputs": [
    {
     "data": {
      "text/plain": [
       "None       509\n",
       "a           53\n",
       "Charlie     10\n",
       "Tucker       9\n",
       "Cooper       9\n",
       "          ... \n",
       "Aubie        1\n",
       "Jaycob       1\n",
       "Comet        1\n",
       "Baloo        1\n",
       "Travis       1\n",
       "Name: name, Length: 906, dtype: int64"
      ]
     },
     "execution_count": 49,
     "metadata": {},
     "output_type": "execute_result"
    }
   ],
   "source": [
    "twitter_archive_clean.name.value_counts()"
   ]
  },
  {
   "cell_type": "code",
   "execution_count": 50,
   "metadata": {},
   "outputs": [],
   "source": [
    "mask1 = twitter_archive_clean.name == 'a'\n",
    "twitter_archive_clean.loc[mask1, 'name'] = 'None'"
   ]
  },
  {
   "cell_type": "code",
   "execution_count": 51,
   "metadata": {
    "scrolled": true
   },
   "outputs": [
    {
     "data": {
      "text/plain": [
       "[\"This is a Sizzlin Menorah spaniel from Brooklyn named Wylie. Lovable eyes. Chiller as hell. 10/10 and I'm out.. poof https://t.co/7E0AiJXPmI\",\n",
       " 'This is a Lofted Aphrodisiac Terrier named Kip. Big fan of bed n breakfasts. Fits perfectly. 10/10 would pet firmly https://t.co/gKlLpNzIl3',\n",
       " 'This is a Tuscaloosa Alcatraz named Jacob (Yacōb). Loves to sit in swing. Stellar tongue. 11/10 look at his feet https://t.co/2IslQ8ZSc7']"
      ]
     },
     "execution_count": 51,
     "metadata": {},
     "output_type": "execute_result"
    }
   ],
   "source": [
    "mask1 = twitter_archive_clean.name == 'None'\n",
    "mask2 = twitter_archive_clean[mask1].text.str.contains('named')\n",
    "list(twitter_archive_clean[mask1 & mask2].text)[:3]"
   ]
  },
  {
   "cell_type": "code",
   "execution_count": 52,
   "metadata": {},
   "outputs": [],
   "source": [
    "extracted_names = twitter_archive_clean[mask1 & mask2].text.str.extract(r'(named [A-Za-z]+)')"
   ]
  },
  {
   "cell_type": "code",
   "execution_count": 53,
   "metadata": {},
   "outputs": [],
   "source": [
    "twitter_archive_clean.loc[extracted_names.index, 'name'] = extracted_names[0].str.lstrip('named ')"
   ]
  },
  {
   "cell_type": "markdown",
   "metadata": {},
   "source": [
    "##### Test"
   ]
  },
  {
   "cell_type": "code",
   "execution_count": 54,
   "metadata": {},
   "outputs": [
    {
     "data": {
      "text/plain": [
       "None       540\n",
       "Charlie     10\n",
       "Tucker       9\n",
       "Penny        9\n",
       "Lucy         9\n",
       "          ... \n",
       "Aubie        1\n",
       "Jaycob       1\n",
       "Comet        1\n",
       "Baloo        1\n",
       "Travis       1\n",
       "Name: name, Length: 923, dtype: int64"
      ]
     },
     "execution_count": 54,
     "metadata": {},
     "output_type": "execute_result"
    }
   ],
   "source": [
    "twitter_archive_clean.name.value_counts()"
   ]
  },
  {
   "cell_type": "markdown",
   "metadata": {},
   "source": [
    "####  Erroneous datatypes (tweet_id, timestamp, source, and dog stages column)"
   ]
  },
  {
   "cell_type": "markdown",
   "metadata": {},
   "source": [
    "##### Define\n",
    "\n",
    "- Convert each column to correct datatype"
   ]
  },
  {
   "cell_type": "markdown",
   "metadata": {},
   "source": [
    "##### Code"
   ]
  },
  {
   "cell_type": "code",
   "execution_count": 55,
   "metadata": {
    "scrolled": true
   },
   "outputs": [
    {
     "name": "stdout",
     "output_type": "stream",
     "text": [
      "<class 'pandas.core.frame.DataFrame'>\n",
      "Int64Index: 1894 entries, 0 to 2070\n",
      "Data columns (total 14 columns):\n",
      " #   Column              Non-Null Count  Dtype \n",
      "---  ------              --------------  ----- \n",
      " 0   timestamp           1894 non-null   object\n",
      " 1   rating_numerator    1894 non-null   int32 \n",
      " 2   rating_denominator  1894 non-null   int32 \n",
      " 3   name                1894 non-null   object\n",
      " 4   tweet_id            1894 non-null   int64 \n",
      " 5   source              1894 non-null   object\n",
      " 6   expanded_urls       1894 non-null   object\n",
      " 7   text                1894 non-null   object\n",
      " 8   dog_stage           1894 non-null   object\n",
      " 9   retweet_count       1894 non-null   int64 \n",
      " 10  favorite_count      1894 non-null   int64 \n",
      " 11  jpg_url             1894 non-null   object\n",
      " 12  p1                  1894 non-null   object\n",
      " 13  p1_dog              1894 non-null   bool  \n",
      "dtypes: bool(1), int32(2), int64(3), object(8)\n",
      "memory usage: 258.7+ KB\n"
     ]
    }
   ],
   "source": [
    "twitter_archive_clean.info()"
   ]
  },
  {
   "cell_type": "code",
   "execution_count": 56,
   "metadata": {},
   "outputs": [],
   "source": [
    "twitter_archive_clean.tweet_id = twitter_archive_clean.tweet_id.astype(str)"
   ]
  },
  {
   "cell_type": "code",
   "execution_count": 57,
   "metadata": {},
   "outputs": [],
   "source": [
    "twitter_archive_clean.source = twitter_archive_clean.source.astype('category')"
   ]
  },
  {
   "cell_type": "code",
   "execution_count": 58,
   "metadata": {},
   "outputs": [],
   "source": [
    "twitter_archive_clean.dog_stage = twitter_archive_clean.dog_stage.astype('category')"
   ]
  },
  {
   "cell_type": "code",
   "execution_count": 59,
   "metadata": {},
   "outputs": [],
   "source": [
    "twitter_archive_clean.timestamp = pd.to_datetime(twitter_archive_clean.timestamp)"
   ]
  },
  {
   "cell_type": "markdown",
   "metadata": {},
   "source": [
    "##### Test"
   ]
  },
  {
   "cell_type": "code",
   "execution_count": 60,
   "metadata": {
    "scrolled": true
   },
   "outputs": [
    {
     "name": "stdout",
     "output_type": "stream",
     "text": [
      "<class 'pandas.core.frame.DataFrame'>\n",
      "Int64Index: 1894 entries, 0 to 2070\n",
      "Data columns (total 14 columns):\n",
      " #   Column              Non-Null Count  Dtype              \n",
      "---  ------              --------------  -----              \n",
      " 0   timestamp           1894 non-null   datetime64[ns, UTC]\n",
      " 1   rating_numerator    1894 non-null   int32              \n",
      " 2   rating_denominator  1894 non-null   int32              \n",
      " 3   name                1894 non-null   object             \n",
      " 4   tweet_id            1894 non-null   object             \n",
      " 5   source              1894 non-null   category           \n",
      " 6   expanded_urls       1894 non-null   object             \n",
      " 7   text                1894 non-null   object             \n",
      " 8   dog_stage           1894 non-null   category           \n",
      " 9   retweet_count       1894 non-null   int64              \n",
      " 10  favorite_count      1894 non-null   int64              \n",
      " 11  jpg_url             1894 non-null   object             \n",
      " 12  p1                  1894 non-null   object             \n",
      " 13  p1_dog              1894 non-null   bool               \n",
      "dtypes: bool(1), category(2), datetime64[ns, UTC](1), int32(2), int64(2), object(6)\n",
      "memory usage: 233.2+ KB\n"
     ]
    }
   ],
   "source": [
    "twitter_archive_clean.info()"
   ]
  },
  {
   "cell_type": "markdown",
   "metadata": {},
   "source": [
    "Finally after clean all the tidiness and quality issues we will store the clean dataframe ready for analysis in `twitter_archive_master.csv` file"
   ]
  },
  {
   "cell_type": "code",
   "execution_count": 61,
   "metadata": {},
   "outputs": [],
   "source": [
    "twitter_archive_clean.to_csv('twitter_archive_master.csv', index=False)"
   ]
  },
  {
   "cell_type": "markdown",
   "metadata": {},
   "source": [
    "<a id='eda'></a>\n",
    "## Exploratory Data Analysis\n"
   ]
  },
  {
   "cell_type": "code",
   "execution_count": 62,
   "metadata": {},
   "outputs": [],
   "source": [
    "# importing the data\n",
    "twitter_archive_master = pd.read_csv('twitter_archive_master.csv')"
   ]
  },
  {
   "cell_type": "markdown",
   "metadata": {},
   "source": [
    "### What dog stage got most retweets ?"
   ]
  },
  {
   "cell_type": "code",
   "execution_count": 63,
   "metadata": {},
   "outputs": [],
   "source": [
    "grouped = twitter_archive_master.groupby('dog_stage')['retweet_count']\n",
    "dog_stage_retweet_ratio = grouped.sum() / grouped.count()"
   ]
  },
  {
   "cell_type": "code",
   "execution_count": 64,
   "metadata": {},
   "outputs": [
    {
     "data": {
      "text/plain": [
       "dog_stage\n",
       "doggo      3961.046875\n",
       "floofer    2508.080000\n",
       "pupper     1880.770270\n",
       "puppo      6300.083333\n",
       "Name: retweet_count, dtype: float64"
      ]
     },
     "execution_count": 64,
     "metadata": {},
     "output_type": "execute_result"
    }
   ],
   "source": [
    "dog_stage_retweet_ratio = dog_stage_retweet_ratio.drop('not_specified');\n",
    "dog_stage_retweet_ratio"
   ]
  },
  {
   "cell_type": "code",
   "execution_count": 65,
   "metadata": {
    "scrolled": true
   },
   "outputs": [
    {
     "data": {
      "image/png": "[encoded data removed]",
      "text/plain": [
       "<Figure size 504x360 with 1 Axes>"
      ]
     },
     "metadata": {},
     "output_type": "display_data"
    }
   ],
   "source": [
    "plt.subplots(figsize=(7,5)) \n",
    "plt.title('Averge Retweets per Dog Stage', fontsize=15)\n",
    "plt.bar(x = dog_stage_retweet_ratio.index, height=dog_stage_retweet_ratio);\n",
    "plt.xticks(fontsize = 12);\n"
   ]
  },
  {
   "cell_type": "markdown",
   "metadata": {},
   "source": [
    "We can see that **puppo** has the most retweets"
   ]
  },
  {
   "cell_type": "markdown",
   "metadata": {},
   "source": [
    "### What dog stage got most favourites ?"
   ]
  },
  {
   "cell_type": "code",
   "execution_count": 66,
   "metadata": {},
   "outputs": [],
   "source": [
    "grouped = twitter_archive_master.groupby('dog_stage')['favorite_count']\n",
    "dog_stage_favourite_ratio = grouped.sum() / grouped.count()"
   ]
  },
  {
   "cell_type": "code",
   "execution_count": 67,
   "metadata": {},
   "outputs": [
    {
     "data": {
      "text/plain": [
       "dog_stage\n",
       "doggo      13951.250000\n",
       "floofer     8912.000000\n",
       "pupper      6206.833333\n",
       "puppo      22871.875000\n",
       "Name: favorite_count, dtype: float64"
      ]
     },
     "execution_count": 67,
     "metadata": {},
     "output_type": "execute_result"
    }
   ],
   "source": [
    "dog_stage_favourite_ratio = dog_stage_favourite_ratio.drop('not_specified');\n",
    "dog_stage_favourite_ratio"
   ]
  },
  {
   "cell_type": "code",
   "execution_count": 68,
   "metadata": {
    "scrolled": true
   },
   "outputs": [
    {
     "data": {
      "image/png": "[encoded data removed]",
      "text/plain": [
       "<Figure size 504x360 with 1 Axes>"
      ]
     },
     "metadata": {},
     "output_type": "display_data"
    }
   ],
   "source": [
    "plt.subplots(figsize=(7,5)) \n",
    "plt.title('Averge Favourites per Dog Stage', fontsize=15)\n",
    "plt.bar(x = dog_stage_favourite_ratio.index, height=dog_stage_favourite_ratio);\n",
    "plt.xticks(fontsize = 12);\n"
   ]
  },
  {
   "cell_type": "markdown",
   "metadata": {},
   "source": [
    "Still **puppo** is the winner, people must love this dog stage"
   ]
  },
  {
   "cell_type": "markdown",
   "metadata": {},
   "source": [
    "### What dog stage got most ratings ?"
   ]
  },
  {
   "cell_type": "code",
   "execution_count": 69,
   "metadata": {},
   "outputs": [],
   "source": [
    "grouped = twitter_archive_master.groupby('dog_stage')\n",
    "dog_stage_rating_ratio = grouped['rating_numerator'].sum() / grouped['rating_denominator'].sum()"
   ]
  },
  {
   "cell_type": "code",
   "execution_count": 70,
   "metadata": {},
   "outputs": [
    {
     "data": {
      "text/plain": [
       "dog_stage\n",
       "doggo      1.171250\n",
       "floofer    1.187097\n",
       "pupper     1.071852\n",
       "puppo      1.208333\n",
       "dtype: float64"
      ]
     },
     "execution_count": 70,
     "metadata": {},
     "output_type": "execute_result"
    }
   ],
   "source": [
    "dog_stage_rating_ratio = dog_stage_rating_ratio.drop('not_specified');\n",
    "dog_stage_rating_ratio"
   ]
  },
  {
   "cell_type": "code",
   "execution_count": 71,
   "metadata": {
    "scrolled": true
   },
   "outputs": [
    {
     "data": {
      "image/png": "[encoded data removed]",
      "text/plain": [
       "<Figure size 504x360 with 1 Axes>"
      ]
     },
     "metadata": {},
     "output_type": "display_data"
    }
   ],
   "source": [
    "plt.subplots(figsize=(7,5)) \n",
    "plt.title('Averge Ratings per Dog Stage', fontsize=15)\n",
    "plt.bar(x = dog_stage_favourite_ratio.index, height=dog_stage_rating_ratio);\n",
    "plt.xticks(fontsize = 12);\n"
   ]
  },
  {
   "cell_type": "markdown",
   "metadata": {},
   "source": [
    "Seems the person behaind [@dog_rates](https://twitter.com/dog_rates) is neutral but we can see that **pupper** is slightly less than the others"
   ]
  },
  {
   "cell_type": "markdown",
   "metadata": {},
   "source": [
    "### What is the most retweeted dog breads ?"
   ]
  },
  {
   "cell_type": "code",
   "execution_count": 73,
   "metadata": {},
   "outputs": [],
   "source": [
    "# we only want the tweets contains dogs\n",
    "twitter_archive_master = twitter_archive_master[twitter_archive_master.p1_dog]"
   ]
  },
  {
   "cell_type": "code",
   "execution_count": 74,
   "metadata": {},
   "outputs": [],
   "source": [
    "grouped = twitter_archive_master.groupby('p1')['retweet_count']\n",
    "dog_bread_retweet_ratio = grouped.sum() / grouped.count()\n",
    "dog_bread_retweet_ratio = dog_bread_retweet_ratio.sort_values(ascending=False)[:10]"
   ]
  },
  {
   "cell_type": "code",
   "execution_count": 75,
   "metadata": {
    "scrolled": true
   },
   "outputs": [
    {
     "data": {
      "image/png": "[encoded data removed]",
      "text/plain": [
       "<Figure size 504x360 with 1 Axes>"
      ]
     },
     "metadata": {},
     "output_type": "display_data"
    }
   ],
   "source": [
    "base_color = sns.color_palette()[0]\n",
    "plt.subplots(figsize=(7,5)) \n",
    "plt.title('10 Most Averge Retweeted Dog Breads', fontsize=15)\n",
    "sns.barplot(x=dog_bread_retweet_ratio, y=dog_bread_retweet_ratio.index, order=dog_bread_retweet_ratio.index, color=base_color);\n",
    "plt.xticks(fontsize = 12);\n",
    "plt.yticks(fontsize = 12);\n",
    "plt.xlabel('');\n",
    "plt.ylabel('');"
   ]
  },
  {
   "cell_type": "markdown",
   "metadata": {},
   "source": [
    "We can see that standard poodle is the most retweeted dog breed on average"
   ]
  },
  {
   "cell_type": "markdown",
   "metadata": {},
   "source": [
    "### What is the 10 most Favorited dog breads ?"
   ]
  },
  {
   "cell_type": "code",
   "execution_count": 76,
   "metadata": {},
   "outputs": [],
   "source": [
    "grouped = twitter_archive_master.groupby('p1')['favorite_count']\n",
    "dog_bread_favorite_ratio = grouped.sum() / grouped.count()\n",
    "dog_bread_favorite_ratio = dog_bread_favorite_ratio.sort_values(ascending=False)[:10]"
   ]
  },
  {
   "cell_type": "code",
   "execution_count": 77,
   "metadata": {
    "scrolled": true
   },
   "outputs": [
    {
     "data": {
      "image/png": "[encoded data removed]",
      "text/plain": [
       "<Figure size 504x360 with 1 Axes>"
      ]
     },
     "metadata": {},
     "output_type": "display_data"
    }
   ],
   "source": [
    "plt.subplots(figsize=(7,5)) \n",
    "plt.title('10 Most Averge Favorited Dog Breads', fontsize=15)\n",
    "sns.barplot(x=dog_bread_favorite_ratio, y=dog_bread_favorite_ratio.index, order=dog_bread_favorite_ratio.index, color=base_color);\n",
    "plt.xticks(fontsize = 12);\n",
    "plt.yticks(fontsize = 12);\n",
    "plt.xlabel('');\n",
    "plt.ylabel('');"
   ]
  },
  {
   "cell_type": "markdown",
   "metadata": {},
   "source": [
    "We can see that Saluki is the most favorited dog breed on average"
   ]
  },
  {
   "cell_type": "markdown",
   "metadata": {},
   "source": [
    "### What is the common words on those tweets ?"
   ]
  },
  {
   "cell_type": "code",
   "execution_count": 78,
   "metadata": {},
   "outputs": [],
   "source": [
    "# Import the word cloud function  \n",
    "from wordcloud import WordCloud, STOPWORDS"
   ]
  },
  {
   "cell_type": "code",
   "execution_count": 79,
   "metadata": {},
   "outputs": [],
   "source": [
    "tweets_text = \"\".join(text + \", \" for text in twitter_archive_master.text)"
   ]
  },
  {
   "cell_type": "code",
   "execution_count": 80,
   "metadata": {},
   "outputs": [],
   "source": [
    "# Create stopword list:\n",
    "my_stopwords = set(STOPWORDS)\n",
    "my_stopwords.update(['https','dog','dogs','doggo', 'floofer','floof','pupper', 'puppo','pupp', 'pup', \n",
    "                     't', 'h', 'co', 'af', 'ckin', 'rate'])"
   ]
  },
  {
   "cell_type": "code",
   "execution_count": 81,
   "metadata": {},
   "outputs": [
    {
     "data": {
      "image/png": "[encoded data removed]",
      "text/plain": [
       "<Figure size 720x504 with 1 Axes>"
      ]
     },
     "metadata": {},
     "output_type": "display_data"
    }
   ],
   "source": [
    "# Create and generate a word cloud image \n",
    "my_cloud = WordCloud(min_font_size=8, max_font_size=70, max_words=100, background_color='white',\n",
    "                     stopwords= my_stopwords).generate(tweets_text)\n",
    "plt.figure(figsize=[10,7])\n",
    "# Display the generated wordcloud image\n",
    "plt.imshow(my_cloud, interpolation='bilinear') \n",
    "plt.axis(\"off\");"
   ]
  },
  {
   "cell_type": "markdown",
   "metadata": {},
   "source": [
    "He always want us **Meet** the doogs and **Say hello** to them, also he **love** them and **think** they are **good pet** and **look really great**"
   ]
  },
  {
   "cell_type": "markdown",
   "metadata": {},
   "source": [
    "<a id='conclusions'></a>\n",
    "## Conclusions\n",
    "\n",
    "in summary i find that **puppo** has the most retweets and favourites on average, all dog stages has similar rating by owner of [@dog_rates](https://twitter.com/dog_rates), **standard poodle** is the most retweeted dog breed on average, but Saluki is the most favorited, and lastly there is a lot of common words such as: Say hello, Meet, love, ...extra\n",
    "\n",
    "\n",
    "Finally, i enjoyed working in this project, speacially in data wrangling that was really fun, i hope you send me any improvement i could make.\n",
    "\n",
    "Thank you for reviewing my work.\n",
    "\n",
    "-Abdullah Majed"
   ]
  }
 ],
 "metadata": {
  "kernelspec": {
   "display_name": "Python 3",
   "language": "python",
   "name": "python3"
  },
  "language_info": {
   "codemirror_mode": {
    "name": "ipython",
    "version": 3
   },
   "file_extension": ".py",
   "mimetype": "text/x-python",
   "name": "python",
   "nbconvert_exporter": "python",
   "pygments_lexer": "ipython3",
   "version": "3.8.8"
  }
 },
 "nbformat": 4,
 "nbformat_minor": 2
}
